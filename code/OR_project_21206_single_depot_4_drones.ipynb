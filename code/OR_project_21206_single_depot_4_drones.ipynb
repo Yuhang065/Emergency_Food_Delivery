{
 "cells": [
  {
   "cell_type": "code",
   "execution_count": 1,
   "metadata": {
    "slideshow": {
     "slide_type": "slide"
    }
   },
   "outputs": [],
   "source": [
    "using CSV\n",
    "using Distances\n",
    "using Random"
   ]
  },
  {
   "cell_type": "code",
   "execution_count": 2,
   "metadata": {
    "slideshow": {
     "slide_type": "fragment"
    }
   },
   "outputs": [
    {
     "data": {
      "text/plain": [
       "21-element Array{Int64,1}:\n",
       " 12\n",
       " 15\n",
       " 12\n",
       " 13\n",
       " 15\n",
       " 15\n",
       " 12\n",
       " 15\n",
       " 12\n",
       " 14\n",
       " 12\n",
       " 15\n",
       " 13\n",
       " 12\n",
       " 15\n",
       " 15\n",
       " 12\n",
       " 12\n",
       " 13\n",
       " 15\n",
       " 13"
      ]
     },
     "execution_count": 2,
     "metadata": {},
     "output_type": "execute_result"
    }
   ],
   "source": [
    "Random.seed!(3)\n",
    "n = 20      # The number of patients\n",
    "c_2 = 5     # unit distance cost\n",
    "patients = [2:n+1;]\n",
    "V = [1:n+1;]  # 1 denotes depot.    \n",
    "q = [rand(12:15,n+1);]   # Requirment of each patient\n",
    "arcs = []\n",
    "for i in V\n",
    "    for j in V \n",
    "        push!(arcs,(i,j))\n",
    "    end\n",
    "end\n",
    "Q = 100    # Capacity\n",
    "D = 10  # Max flying distance\n",
    "q"
   ]
  },
  {
   "cell_type": "code",
   "execution_count": 3,
   "metadata": {
    "slideshow": {
     "slide_type": "slide"
    }
   },
   "outputs": [
    {
     "data": {
      "text/html": [
       "<table class=\"data-frame\"><thead><tr><th></th><th>OID</th><th>CID</th><th>POINT_X</th><th>POINT_Y</th></tr><tr><th></th><th>Int64</th><th>Int64</th><th>Float64</th><th>Float64</th></tr></thead><tbody><p>21 rows × 4 columns</p><tr><th>1</th><td>0</td><td>0</td><td>-76.5412</td><td>39.3452</td></tr><tr><th>2</th><td>1</td><td>1</td><td>-76.5244</td><td>39.3301</td></tr><tr><th>3</th><td>2</td><td>1</td><td>-76.5419</td><td>39.3376</td></tr><tr><th>4</th><td>3</td><td>1</td><td>-76.5142</td><td>39.3431</td></tr><tr><th>5</th><td>4</td><td>1</td><td>-76.5317</td><td>39.3358</td></tr><tr><th>6</th><td>5</td><td>1</td><td>-76.5589</td><td>39.3261</td></tr><tr><th>7</th><td>6</td><td>1</td><td>-76.5592</td><td>39.3222</td></tr><tr><th>8</th><td>7</td><td>1</td><td>-76.5357</td><td>39.3538</td></tr><tr><th>9</th><td>8</td><td>1</td><td>-76.5585</td><td>39.3379</td></tr><tr><th>10</th><td>9</td><td>1</td><td>-76.5507</td><td>39.3455</td></tr><tr><th>11</th><td>10</td><td>1</td><td>-76.5533</td><td>39.3251</td></tr><tr><th>12</th><td>11</td><td>1</td><td>-76.5517</td><td>39.3352</td></tr><tr><th>13</th><td>12</td><td>1</td><td>-76.5196</td><td>39.3579</td></tr><tr><th>14</th><td>13</td><td>1</td><td>-76.5247</td><td>39.3611</td></tr><tr><th>15</th><td>14</td><td>1</td><td>-76.5277</td><td>39.3363</td></tr><tr><th>16</th><td>15</td><td>1</td><td>-76.5545</td><td>39.3356</td></tr><tr><th>17</th><td>16</td><td>1</td><td>-76.5333</td><td>39.3584</td></tr><tr><th>18</th><td>17</td><td>1</td><td>-76.5412</td><td>39.3486</td></tr><tr><th>19</th><td>18</td><td>1</td><td>-76.5485</td><td>39.3427</td></tr><tr><th>20</th><td>19</td><td>1</td><td>-76.5361</td><td>39.3496</td></tr><tr><th>21</th><td>20</td><td>1</td><td>-76.5466</td><td>39.3571</td></tr></tbody></table>"
      ],
      "text/latex": [
       "\\begin{tabular}{r|cccc}\n",
       "\t& OID & CID & POINT\\_X & POINT\\_Y\\\\\n",
       "\t\\hline\n",
       "\t& Int64 & Int64 & Float64 & Float64\\\\\n",
       "\t\\hline\n",
       "\t1 & 0 & 0 & -76.5412 & 39.3452 \\\\\n",
       "\t2 & 1 & 1 & -76.5244 & 39.3301 \\\\\n",
       "\t3 & 2 & 1 & -76.5419 & 39.3376 \\\\\n",
       "\t4 & 3 & 1 & -76.5142 & 39.3431 \\\\\n",
       "\t5 & 4 & 1 & -76.5317 & 39.3358 \\\\\n",
       "\t6 & 5 & 1 & -76.5589 & 39.3261 \\\\\n",
       "\t7 & 6 & 1 & -76.5592 & 39.3222 \\\\\n",
       "\t8 & 7 & 1 & -76.5357 & 39.3538 \\\\\n",
       "\t9 & 8 & 1 & -76.5585 & 39.3379 \\\\\n",
       "\t10 & 9 & 1 & -76.5507 & 39.3455 \\\\\n",
       "\t11 & 10 & 1 & -76.5533 & 39.3251 \\\\\n",
       "\t12 & 11 & 1 & -76.5517 & 39.3352 \\\\\n",
       "\t13 & 12 & 1 & -76.5196 & 39.3579 \\\\\n",
       "\t14 & 13 & 1 & -76.5247 & 39.3611 \\\\\n",
       "\t15 & 14 & 1 & -76.5277 & 39.3363 \\\\\n",
       "\t16 & 15 & 1 & -76.5545 & 39.3356 \\\\\n",
       "\t17 & 16 & 1 & -76.5333 & 39.3584 \\\\\n",
       "\t18 & 17 & 1 & -76.5412 & 39.3486 \\\\\n",
       "\t19 & 18 & 1 & -76.5485 & 39.3427 \\\\\n",
       "\t20 & 19 & 1 & -76.5361 & 39.3496 \\\\\n",
       "\t21 & 20 & 1 & -76.5466 & 39.3571 \\\\\n",
       "\\end{tabular}\n"
      ],
      "text/plain": [
       "21×4 DataFrames.DataFrame\n",
       "│ Row │ OID   │ CID   │ POINT_X  │ POINT_Y │\n",
       "│     │ \u001b[90mInt64\u001b[39m │ \u001b[90mInt64\u001b[39m │ \u001b[90mFloat64\u001b[39m  │ \u001b[90mFloat64\u001b[39m │\n",
       "├─────┼───────┼───────┼──────────┼─────────┤\n",
       "│ 1   │ 0     │ 0     │ -76.5412 │ 39.3452 │\n",
       "│ 2   │ 1     │ 1     │ -76.5244 │ 39.3301 │\n",
       "│ 3   │ 2     │ 1     │ -76.5419 │ 39.3376 │\n",
       "│ 4   │ 3     │ 1     │ -76.5142 │ 39.3431 │\n",
       "│ 5   │ 4     │ 1     │ -76.5317 │ 39.3358 │\n",
       "│ 6   │ 5     │ 1     │ -76.5589 │ 39.3261 │\n",
       "│ 7   │ 6     │ 1     │ -76.5592 │ 39.3222 │\n",
       "│ 8   │ 7     │ 1     │ -76.5357 │ 39.3538 │\n",
       "│ 9   │ 8     │ 1     │ -76.5585 │ 39.3379 │\n",
       "│ 10  │ 9     │ 1     │ -76.5507 │ 39.3455 │\n",
       "│ 11  │ 10    │ 1     │ -76.5533 │ 39.3251 │\n",
       "│ 12  │ 11    │ 1     │ -76.5517 │ 39.3352 │\n",
       "│ 13  │ 12    │ 1     │ -76.5196 │ 39.3579 │\n",
       "│ 14  │ 13    │ 1     │ -76.5247 │ 39.3611 │\n",
       "│ 15  │ 14    │ 1     │ -76.5277 │ 39.3363 │\n",
       "│ 16  │ 15    │ 1     │ -76.5545 │ 39.3356 │\n",
       "│ 17  │ 16    │ 1     │ -76.5333 │ 39.3584 │\n",
       "│ 18  │ 17    │ 1     │ -76.5412 │ 39.3486 │\n",
       "│ 19  │ 18    │ 1     │ -76.5485 │ 39.3427 │\n",
       "│ 20  │ 19    │ 1     │ -76.5361 │ 39.3496 │\n",
       "│ 21  │ 20    │ 1     │ -76.5466 │ 39.3571 │"
      ]
     },
     "execution_count": 3,
     "metadata": {},
     "output_type": "execute_result"
    }
   ],
   "source": [
    "data = CSV.read(\"Patients21206_TableToExcel.csv\")"
   ]
  },
  {
   "cell_type": "code",
   "execution_count": 4,
   "metadata": {
    "slideshow": {
     "slide_type": "slide"
    }
   },
   "outputs": [
    {
     "data": {
      "text/plain": [
       "21×21 Array{Float64,2}:\n",
       " 0.0       2.21155   0.84739   2.32869  …  0.695232  0.657811  1.40216\n",
       " 2.21155   0.0       1.71839   1.68895     2.50207   2.38791   3.55578\n",
       " 0.84739   1.71839   0.0       2.45652     0.803717  1.42599   2.20423\n",
       " 2.32869   1.68895   2.45652   0.0         2.95289   2.01247   3.19105\n",
       " 1.32232   0.893088  0.896458  1.70918     1.63575   1.57827   2.68982\n",
       " 2.61453   3.00113   1.94337   4.28288  …  2.04497   3.26933   3.60205\n",
       " 2.9887    3.11793   2.267     4.51098     2.45035   3.63729   4.02386\n",
       " 1.06558   2.80901   1.87882   2.1995      1.65924   0.468407  1.00563\n",
       " 1.69676   3.05396   1.42654   3.84949     1.0056    2.32737   2.3662 \n",
       " 0.821159  2.83799   1.16323   3.14893     0.368652  1.33823   1.33095\n",
       " 2.46379   2.54617   1.69898   3.91013  …  1.99211   3.09939   3.59885\n",
       " 1.43642   2.42      0.889676  3.34535     0.873091  2.09381   2.4711 \n",
       " 2.332     3.12128   2.96325   1.71407     3.01243   1.69015   2.32428\n",
       " 2.26646   3.44673   3.00354   2.19558     2.90142   1.61006   1.93902\n",
       " 1.5203    0.746355  1.22603   1.38506     1.9252    1.64244   2.82376\n",
       " 1.57187   2.66122   1.11126   3.56695  …  0.942453  2.2278    2.48736\n",
       " 1.61131   3.23403   2.42333   2.36292     2.18187   1.00181   1.15185\n",
       " 0.381959  2.51409   1.2286    2.39806     0.918454  0.452826  1.04976\n",
       " 0.695232  2.50207   0.803717  2.95289     0.0       1.32296   1.61151\n",
       " 0.657811  2.38791   1.42599   2.01247     1.32296   0.0       1.23159\n",
       " 1.40216   3.55578   2.20423   3.19105  …  1.61151   1.23159   0.0    "
      ]
     },
     "execution_count": 4,
     "metadata": {},
     "output_type": "execute_result"
    }
   ],
   "source": [
    "x_loc = data[:,3];\n",
    "y_loc = data[:,4];\n",
    "d = zeros(n+1,n+1)   # Distance matrix\n",
    "for i = 1: length(V)\n",
    "    for j = 1: length(V)\n",
    "        d[i,j] = haversine((x_loc[i],y_loc[i]),(x_loc[j],y_loc[j]),6372.8) \n",
    "    end\n",
    "end\n",
    "d"
   ]
  },
  {
   "cell_type": "code",
   "execution_count": 5,
   "metadata": {
    "slideshow": {
     "slide_type": "slide"
    }
   },
   "outputs": [
    {
     "name": "stdout",
     "output_type": "stream",
     "text": [
      "Academic license - for non-commercial use only\r\n",
      "Academic license - for non-commercial use only\r\n",
      "Gurobi Optimizer version 9.0.1 build v9.0.1rc0 (win64)\r\n",
      "Optimize a model with 1900 rows, 1848 columns and 14884 nonzeros\r\n",
      "Model fingerprint: 0x685c139b\r\n",
      "Variable types: 84 continuous, 1764 integer (1764 binary)\r\n",
      "Coefficient statistics:\r\n",
      "  Matrix range     [2e-01, 2e+01]\r\n",
      "  Objective range  [1e+00, 3e+01]\r\n",
      "  Bounds range     [0e+00, 0e+00]\r\n",
      "  RHS range        [1e+00, 1e+02]\r\n",
      "Presolve removed 244 rows and 88 columns\r\n",
      "Presolve time: 0.02s\r\n",
      "Presolved: 1656 rows, 1760 columns, 14312 nonzeros\r\n",
      "Variable types: 80 continuous, 1680 integer (1680 binary)\r\n",
      "\r\n",
      "Root relaxation: objective 8.201208e+01, 106 iterations, 0.00 seconds\r\n",
      "\r\n",
      "    Nodes    |    Current Node    |     Objective Bounds      |     Work\r\n",
      " Expl Unexpl |  Obj  Depth IntInf | Incumbent    BestBd   Gap | It/Node Time\r\n",
      "\r\n",
      "     0     0   82.01208    0   30          -   82.01208      -     -    0s\r\n",
      "     0     0   82.01208    0   30          -   82.01208      -     -    0s\r\n",
      "     0     0   82.01208    0   30          -   82.01208      -     -    0s\r\n",
      "H    0     0                     172.4784959   82.01208  52.5%     -    0s\r\n",
      "     0     0   85.45352    0   32  172.47850   85.45352  50.5%     -    0s\r\n",
      "     0     0   85.45352    0   35  172.47850   85.45352  50.5%     -    0s\r\n",
      "H    0     0                     118.7124397   85.45352  28.0%     -    0s\r\n",
      "H    0     0                     118.6608701   85.45352  28.0%     -    0s\r\n",
      "     0     0   85.45352    0   36  118.66087   85.45352  28.0%     -    0s\r\n",
      "H    0     0                     116.5278516   85.45352  26.7%     -    0s\r\n",
      "H    0     0                     116.2293105   85.45352  26.5%     -    0s\r\n",
      "     0     0   85.45352    0   34  116.22931   85.45352  26.5%     -    0s\r\n",
      "     0     0   85.45352    0   31  116.22931   85.45352  26.5%     -    0s\r\n",
      "     0     0   85.45352    0   31  116.22931   85.45352  26.5%     -    0s\r\n",
      "     0     2   85.45352    0   31  116.22931   85.45352  26.5%     -    0s\r\n",
      "H  198   180                     115.2502887   87.45710  24.1%  12.0    1s\r\n",
      "  2010  1168   96.07876   24   48  115.25029   88.39847  23.3%  12.4    5s\r\n",
      "H 2012  1061                     108.9741526   88.39847  18.9%  12.4    5s\r\n",
      "* 5017  2197              35     108.8811222   92.37768  15.2%  14.0    7s\r\n",
      "* 5302  2384              33     108.4524457   92.81162  14.4%  14.1    7s\r\n",
      "* 5303  2328              32     107.6624271   92.81162  13.8%  14.1    7s\r\n",
      "* 5490  2386              35     107.2745432   92.87115  13.4%  14.2    7s\r\n",
      "  9746  3926   98.19501   19   26  107.27454   94.51098  11.9%  15.3   10s\r\n",
      "*12343  4434              43     106.4788649   95.12910  10.7%  15.6   11s\r\n",
      " 14272  4908 infeasible   25       106.47886   95.75215  10.1%  15.7   15s\r\n",
      "*14563  4903              41     106.4562601   95.78679  10.0%  15.7   15s\r\n",
      "*14643  4811              41     106.0715922   95.78772  9.70%  15.7   15s\r\n",
      " 23068  5880  103.60715   40   41  106.07159   97.90189  7.70%  16.5   20s\r\n",
      "*24835  5743              45     105.3885324   98.34885  6.68%  16.7   21s\r\n",
      " 30545  5689  103.70395   40   21  105.38853   99.70123  5.40%  17.2   31s\r\n",
      " 35626  5189  104.95929   26   65  105.38853  100.61112  4.53%  17.6   35s\r\n",
      "H38288  5008                     105.3885279  101.07863  4.09%  17.7   37s\r\n",
      " 43537  4036     cutoff   32       105.38853  101.88629  3.32%  17.8   40s\r\n",
      " 53151   142     cutoff   33       105.38853  104.35530  0.98%  17.7   45s\r\n",
      "\r\n",
      "Cutting planes:\r\n",
      "  Learned: 1\r\n",
      "  Gomory: 44\r\n",
      "  Implied bound: 69\r\n",
      "  Projected implied bound: 16\r\n",
      "  MIR: 27\r\n",
      "  StrongCG: 1\r\n",
      "  Flow cover: 100\r\n",
      "  GUB cover: 12\r\n",
      "  Inf proof: 96\r\n",
      "  Zero half: 40\r\n",
      "  RLT: 137\r\n",
      "  Relax-and-lift: 94\r\n",
      "\r\n",
      "Explored 54005 nodes (951706 simplex iterations) in 45.37 seconds\r\n",
      "Thread count was 8 (of 8 available processors)\r\n",
      "\r\n",
      "Solution count 10: 105.389 106.072 106.456 ... 115.25\r\n",
      "\r\n",
      "Optimal solution found (tolerance 1.00e-04)\r\n",
      "Best objective 1.053885323545e+02, best bound 1.053885323545e+02, gap 0.0000%\r\n",
      "objective_value(m) = 105.38853235449795\n"
     ]
    }
   ],
   "source": [
    "using JuMP, Gurobi \n",
    "v = 1:4  # # of drones\n",
    "m = Model(Gurobi.Optimizer);\n",
    "@variable(m,x[arcs,v],Bin) #arcs covered by vehicle k\n",
    "@variable(m,u[1:n+1,v])\n",
    "# Each patient will be visited exactly once\n",
    "@constraint(m,single1[j in patients],sum(x[(i,j),k] for i in V for k in v)==1) \n",
    "@constraint(m,single2[i in patients],sum(x[(i,j),k] for j in V for k in v)==1) \n",
    "# Drone starts from depot\n",
    "@constraint(m,depot1[k in v],sum(x[(1,j),k] for j in patients)==1)\n",
    "# Drone ends at depot\n",
    "@constraint(m,depot2[k in v],sum(x[(i,1),k] for i in patients)==1)\n",
    "# Capacity constriant\n",
    "@constraint(m,capacity[k in v],sum(q[i]*x[(i,j),k] for i in patients for j in V)<=Q)\n",
    "# Balance constraint\n",
    "@constraint(m,balance[h in patients,k in v],sum(x[(i,h),k] for i in V)-sum(x[(h,j),k] for j in V)==0) \n",
    "# Subtour Elimination MTZ\n",
    "@constraint(m,subtour1[k in v], u[1,k]==1)\n",
    "@constraint(m,subtour2[k in v,i in 2:n+1], u[i,k]>=2)   \n",
    "@constraint(m,subtour3[k in v,i in 2:n+1], u[i,k]<=n)\n",
    "@constraint(m,subtour4[k in v,i in 2:n+1, j in 2:n+1], (u[i,k]-u[j,k]+1)<=(n-1)*(1-x[(i,j),k]))\n",
    "# Maximum flying distance for each drone\n",
    "@constraint(m,maxdis[k in v], sum(d[i,j]*x[(i,j),k] for i in V for j in V)<=D)                                             \n",
    "# Objective Function\n",
    "@objective(m,Min,5*sum(d[i,j]*x[(i,j),k] for i in V for j in V for k in v))                                                              \n",
    "optimize!(m)\n",
    "@show objective_value(m);"
   ]
  },
  {
   "cell_type": "code",
   "execution_count": 6,
   "metadata": {
    "slideshow": {
     "slide_type": "slide"
    }
   },
   "outputs": [
    {
     "name": "stdout",
     "output_type": "stream",
     "text": [
      "x[(1, 5),1]\n",
      "x[(2, 4),1]\n",
      "x[(4, 13),1]\n",
      "x[(5, 15),1]\n",
      "x[(13, 14),1]\n",
      "x[(14, 17),1]\n",
      "x[(15, 2),1]\n",
      "x[(17, 1),1]\n",
      "x[(1, 20),2]\n",
      "x[(8, 21),2]\n",
      "x[(10, 19),2]\n",
      "x[(19, 1),2]\n",
      "x[(20, 8),2]\n",
      "x[(21, 10),2]\n",
      "x[(1, 18),3]\n",
      "x[(18, 1),3]\n",
      "x[(1, 12),4]\n",
      "x[(3, 1),4]\n",
      "x[(6, 7),4]\n",
      "x[(7, 11),4]\n",
      "x[(9, 6),4]\n",
      "x[(11, 3),4]\n",
      "x[(12, 16),4]\n",
      "x[(16, 9),4]\n"
     ]
    }
   ],
   "source": [
    "val = value.(x)\n",
    "for k in v\n",
    "    for i in V\n",
    "        for j in V\n",
    "            if val[(i,j),k]==1\n",
    "                println(x[(i,j),k])\n",
    "            end \n",
    "        end\n",
    "    end\n",
    "end"
   ]
  }
 ],
 "metadata": {
  "celltoolbar": "幻灯片",
  "kernelspec": {
   "display_name": "Julia 1.3.1",
   "language": "julia",
   "name": "julia-1.3"
  },
  "language_info": {
   "file_extension": ".jl",
   "mimetype": "application/julia",
   "name": "julia",
   "version": "1.3.1"
  }
 },
 "nbformat": 4,
 "nbformat_minor": 2
}
