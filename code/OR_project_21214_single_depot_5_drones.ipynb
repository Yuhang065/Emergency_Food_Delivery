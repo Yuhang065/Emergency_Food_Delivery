{
 "cells": [
  {
   "cell_type": "code",
   "execution_count": 1,
   "metadata": {
    "slideshow": {
     "slide_type": "slide"
    }
   },
   "outputs": [],
   "source": [
    "using CSV\n",
    "using Distances\n",
    "using Random"
   ]
  },
  {
   "cell_type": "code",
   "execution_count": 2,
   "metadata": {
    "slideshow": {
     "slide_type": "fragment"
    }
   },
   "outputs": [
    {
     "data": {
      "text/plain": [
       "21-element Array{Int64,1}:\n",
       " 15\n",
       " 15\n",
       " 12\n",
       " 14\n",
       " 14\n",
       " 13\n",
       " 12\n",
       " 15\n",
       " 15\n",
       " 12\n",
       " 15\n",
       " 15\n",
       " 14\n",
       " 12\n",
       " 13\n",
       " 14\n",
       " 15\n",
       " 15\n",
       " 15\n",
       " 15\n",
       " 14"
      ]
     },
     "execution_count": 2,
     "metadata": {},
     "output_type": "execute_result"
    }
   ],
   "source": [
    "Random.seed!(4)\n",
    "n = 20      # The number of patients\n",
    "c_2 = 5     # unit distance cost\n",
    "patients = [2:n+1;]\n",
    "V = [1:n+1;]  # 1 denotes depot.    \n",
    "q = [rand(12:15,n+1);]   # Requirment of each patient\n",
    "arcs = []\n",
    "for i in V\n",
    "    for j in V \n",
    "        push!(arcs,(i,j))\n",
    "    end\n",
    "end\n",
    "Q = 100    # Capacity\n",
    "D = 10  # Max flying distance\n",
    "q"
   ]
  },
  {
   "cell_type": "code",
   "execution_count": 3,
   "metadata": {
    "slideshow": {
     "slide_type": "slide"
    }
   },
   "outputs": [
    {
     "data": {
      "text/html": [
       "<table class=\"data-frame\"><thead><tr><th></th><th>OID</th><th>CID</th><th>POINT_X</th><th>POINT_Y</th></tr><tr><th></th><th>Int64</th><th>Int64</th><th>Float64</th><th>Float64</th></tr></thead><tbody><p>21 rows × 4 columns</p><tr><th>1</th><td>0</td><td>0</td><td>-76.5617</td><td>39.3524</td></tr><tr><th>2</th><td>1</td><td>1</td><td>-76.5695</td><td>39.3364</td></tr><tr><th>3</th><td>2</td><td>2</td><td>-76.5613</td><td>39.3383</td></tr><tr><th>4</th><td>3</td><td>3</td><td>-76.5504</td><td>39.3508</td></tr><tr><th>5</th><td>4</td><td>4</td><td>-76.5682</td><td>39.362</td></tr><tr><th>6</th><td>5</td><td>5</td><td>-76.5583</td><td>39.3494</td></tr><tr><th>7</th><td>6</td><td>6</td><td>-76.579</td><td>39.3474</td></tr><tr><th>8</th><td>7</td><td>7</td><td>-76.5558</td><td>39.3603</td></tr><tr><th>9</th><td>8</td><td>8</td><td>-76.563</td><td>39.3652</td></tr><tr><th>10</th><td>9</td><td>9</td><td>-76.5656</td><td>39.352</td></tr><tr><th>11</th><td>10</td><td>10</td><td>-76.5734</td><td>39.3453</td></tr><tr><th>12</th><td>11</td><td>11</td><td>-76.5607</td><td>39.3557</td></tr><tr><th>13</th><td>12</td><td>12</td><td>-76.5716</td><td>39.3499</td></tr><tr><th>14</th><td>13</td><td>13</td><td>-76.5713</td><td>39.3551</td></tr><tr><th>15</th><td>14</td><td>14</td><td>-76.5762</td><td>39.3392</td></tr><tr><th>16</th><td>15</td><td>15</td><td>-76.5507</td><td>39.3577</td></tr><tr><th>17</th><td>16</td><td>16</td><td>-76.5605</td><td>39.3496</td></tr><tr><th>18</th><td>17</td><td>17</td><td>-76.5629</td><td>39.3447</td></tr><tr><th>19</th><td>18</td><td>18</td><td>-76.5631</td><td>39.3486</td></tr><tr><th>20</th><td>19</td><td>19</td><td>-76.5682</td><td>39.3481</td></tr><tr><th>21</th><td>20</td><td>20</td><td>-76.5683</td><td>39.3437</td></tr></tbody></table>"
      ],
      "text/latex": [
       "\\begin{tabular}{r|cccc}\n",
       "\t& OID & CID & POINT\\_X & POINT\\_Y\\\\\n",
       "\t\\hline\n",
       "\t& Int64 & Int64 & Float64 & Float64\\\\\n",
       "\t\\hline\n",
       "\t1 & 0 & 0 & -76.5617 & 39.3524 \\\\\n",
       "\t2 & 1 & 1 & -76.5695 & 39.3364 \\\\\n",
       "\t3 & 2 & 2 & -76.5613 & 39.3383 \\\\\n",
       "\t4 & 3 & 3 & -76.5504 & 39.3508 \\\\\n",
       "\t5 & 4 & 4 & -76.5682 & 39.362 \\\\\n",
       "\t6 & 5 & 5 & -76.5583 & 39.3494 \\\\\n",
       "\t7 & 6 & 6 & -76.579 & 39.3474 \\\\\n",
       "\t8 & 7 & 7 & -76.5558 & 39.3603 \\\\\n",
       "\t9 & 8 & 8 & -76.563 & 39.3652 \\\\\n",
       "\t10 & 9 & 9 & -76.5656 & 39.352 \\\\\n",
       "\t11 & 10 & 10 & -76.5734 & 39.3453 \\\\\n",
       "\t12 & 11 & 11 & -76.5607 & 39.3557 \\\\\n",
       "\t13 & 12 & 12 & -76.5716 & 39.3499 \\\\\n",
       "\t14 & 13 & 13 & -76.5713 & 39.3551 \\\\\n",
       "\t15 & 14 & 14 & -76.5762 & 39.3392 \\\\\n",
       "\t16 & 15 & 15 & -76.5507 & 39.3577 \\\\\n",
       "\t17 & 16 & 16 & -76.5605 & 39.3496 \\\\\n",
       "\t18 & 17 & 17 & -76.5629 & 39.3447 \\\\\n",
       "\t19 & 18 & 18 & -76.5631 & 39.3486 \\\\\n",
       "\t20 & 19 & 19 & -76.5682 & 39.3481 \\\\\n",
       "\t21 & 20 & 20 & -76.5683 & 39.3437 \\\\\n",
       "\\end{tabular}\n"
      ],
      "text/plain": [
       "21×4 DataFrames.DataFrame\n",
       "│ Row │ OID   │ CID   │ POINT_X  │ POINT_Y │\n",
       "│     │ \u001b[90mInt64\u001b[39m │ \u001b[90mInt64\u001b[39m │ \u001b[90mFloat64\u001b[39m  │ \u001b[90mFloat64\u001b[39m │\n",
       "├─────┼───────┼───────┼──────────┼─────────┤\n",
       "│ 1   │ 0     │ 0     │ -76.5617 │ 39.3524 │\n",
       "│ 2   │ 1     │ 1     │ -76.5695 │ 39.3364 │\n",
       "│ 3   │ 2     │ 2     │ -76.5613 │ 39.3383 │\n",
       "│ 4   │ 3     │ 3     │ -76.5504 │ 39.3508 │\n",
       "│ 5   │ 4     │ 4     │ -76.5682 │ 39.362  │\n",
       "│ 6   │ 5     │ 5     │ -76.5583 │ 39.3494 │\n",
       "│ 7   │ 6     │ 6     │ -76.579  │ 39.3474 │\n",
       "│ 8   │ 7     │ 7     │ -76.5558 │ 39.3603 │\n",
       "│ 9   │ 8     │ 8     │ -76.563  │ 39.3652 │\n",
       "│ 10  │ 9     │ 9     │ -76.5656 │ 39.352  │\n",
       "│ 11  │ 10    │ 10    │ -76.5734 │ 39.3453 │\n",
       "│ 12  │ 11    │ 11    │ -76.5607 │ 39.3557 │\n",
       "│ 13  │ 12    │ 12    │ -76.5716 │ 39.3499 │\n",
       "│ 14  │ 13    │ 13    │ -76.5713 │ 39.3551 │\n",
       "│ 15  │ 14    │ 14    │ -76.5762 │ 39.3392 │\n",
       "│ 16  │ 15    │ 15    │ -76.5507 │ 39.3577 │\n",
       "│ 17  │ 16    │ 16    │ -76.5605 │ 39.3496 │\n",
       "│ 18  │ 17    │ 17    │ -76.5629 │ 39.3447 │\n",
       "│ 19  │ 18    │ 18    │ -76.5631 │ 39.3486 │\n",
       "│ 20  │ 19    │ 19    │ -76.5682 │ 39.3481 │\n",
       "│ 21  │ 20    │ 20    │ -76.5683 │ 39.3437 │"
      ]
     },
     "execution_count": 3,
     "metadata": {},
     "output_type": "execute_result"
    }
   ],
   "source": [
    "data = CSV.read(\"Patients21214_TableToExcel.csv\")"
   ]
  },
  {
   "cell_type": "code",
   "execution_count": 4,
   "metadata": {
    "slideshow": {
     "slide_type": "slide"
    }
   },
   "outputs": [
    {
     "data": {
      "text/plain": [
       "21×21 Array{Float64,2}:\n",
       " 0.0       1.90638   1.5708    0.988645  …  0.446169  0.740393  1.12463 \n",
       " 1.90638   0.0       0.732939  2.29834      1.46164   1.31052   0.823554\n",
       " 1.5708    0.732939  0.0       1.68166      1.15375   1.24407   0.855072\n",
       " 0.988645  2.29834   1.68166   0.0          1.12801   1.56688   1.73702 \n",
       " 1.20083   2.84838   2.69785   1.97172      1.55116   1.54      2.02834 \n",
       " 0.442061  1.73457   1.25928   0.705256  …  0.422781  0.862436  1.06606 \n",
       " 1.59118   1.47947   1.83039   2.49281      1.37013   0.929567  1.00538 \n",
       " 1.01226   2.90987   2.49334   1.15373      1.45004   1.72712   2.13684 \n",
       " 1.42326   3.25164   2.99273   1.93015      1.84647   1.95038   2.42982 \n",
       " 0.33765   1.76791   1.56459   1.31296      0.431385  0.487566  0.94869 \n",
       " 1.286     1.04709   1.29899   2.07754   …  0.95699   0.546763  0.469078\n",
       " 0.373232  2.27646   1.93561   1.04387      0.81887   1.06162   1.48362 \n",
       " 0.899612  1.5108    1.5601    1.82905      0.73985   0.347045  0.736389\n",
       " 0.881433  2.09172   2.05932   1.86349      1.01121   0.822715  1.29287 \n",
       " 1.925     0.658819  1.28203   2.56684      1.52742   1.20055   0.837735\n",
       " 1.11451   2.8708    2.34413   0.764737  …  1.47797   1.85004   2.17502 \n",
       " 0.333776  1.65808   1.25489   0.881374     0.254724  0.686637  0.93799 \n",
       " 0.868363  1.08077   0.72235   1.2791       0.434411  0.596419  0.47832 \n",
       " 0.446169  1.46164   1.15375   1.12801      0.0       0.440729  0.700556\n",
       " 0.740393  1.31052   1.24407   1.56688      0.440729  0.0       0.488395\n",
       " 1.12463   0.823554  0.855072  1.73702   …  0.700556  0.488395  0.0     "
      ]
     },
     "execution_count": 4,
     "metadata": {},
     "output_type": "execute_result"
    }
   ],
   "source": [
    "x_loc = data[:,3];\n",
    "y_loc = data[:,4];\n",
    "d = zeros(n+1,n+1)   # Distance matrix\n",
    "for i = 1: length(V)\n",
    "    for j = 1: length(V)\n",
    "        d[i,j] = haversine((x_loc[i],y_loc[i]),(x_loc[j],y_loc[j]),6372.8) \n",
    "    end\n",
    "end\n",
    "d"
   ]
  },
  {
   "cell_type": "code",
   "execution_count": 5,
   "metadata": {
    "slideshow": {
     "slide_type": "slide"
    }
   },
   "outputs": [
    {
     "name": "stdout",
     "output_type": "stream",
     "text": [
      "Academic license - for non-commercial use only\r\n",
      "Academic license - for non-commercial use only\r\n",
      "Gurobi Optimizer version 9.0.1 build v9.0.1rc0 (win64)\r\n",
      "Optimize a model with 2365 rows, 2310 columns and 18605 nonzeros\r\n",
      "Model fingerprint: 0xac560c6a\r\n",
      "Variable types: 105 continuous, 2205 integer (2205 binary)\r\n",
      "Coefficient statistics:\r\n",
      "  Matrix range     [2e-01, 2e+01]\r\n",
      "  Objective range  [9e-01, 2e+01]\r\n",
      "  Bounds range     [0e+00, 0e+00]\r\n",
      "  RHS range        [1e+00, 1e+02]\r\n",
      "Presolve removed 305 rows and 110 columns\r\n",
      "Presolve time: 0.03s\r\n",
      "Presolved: 2060 rows, 2200 columns, 17890 nonzeros\r\n",
      "Variable types: 100 continuous, 2100 integer (2100 binary)\r\n",
      "\r\n",
      "Root relaxation: objective 6.654921e+01, 114 iterations, 0.00 seconds\r\n",
      "\r\n",
      "    Nodes    |    Current Node    |     Objective Bounds      |     Work\r\n",
      " Expl Unexpl |  Obj  Depth IntInf | Incumbent    BestBd   Gap | It/Node Time\r\n",
      "\r\n",
      "     0     0   66.54921    0   38          -   66.54921      -     -    0s\r\n",
      "H    0     0                      99.0470922   66.54921  32.8%     -    0s\r\n",
      "H    0     0                      96.0470143   66.54921  30.7%     -    0s\r\n",
      "     0     0   66.54921    0   42   96.04701   66.54921  30.7%     -    0s\r\n",
      "     0     0   66.54921    0   28   96.04701   66.54921  30.7%     -    0s\r\n",
      "     0     0   66.85092    0   47   96.04701   66.85092  30.4%     -    0s\r\n",
      "     0     0   68.68971    0   57   96.04701   68.68971  28.5%     -    0s\r\n",
      "     0     0   68.68971    0   51   96.04701   68.68971  28.5%     -    0s\r\n",
      "     0     0   68.71315    0   45   96.04701   68.71315  28.5%     -    0s\r\n",
      "     0     0   68.71315    0   45   96.04701   68.71315  28.5%     -    0s\r\n",
      "H    0     0                      90.9836583   68.71315  24.5%     -    0s\r\n",
      "     0     0   68.71417    0   60   90.98366   68.71417  24.5%     -    0s\r\n",
      "     0     0   68.71417    0   55   90.98366   68.71417  24.5%     -    0s\r\n",
      "H    0     2                      87.5345342   68.73251  21.5%     -    0s\r\n",
      "     0     2   68.73251    0   51   87.53453   68.73251  21.5%     -    0s\r\n",
      "H   32    35                      82.9588184   69.49623  16.2%  40.5    0s\r\n",
      "H  171   160                      82.6050493   69.49623  15.9%  17.7    1s\r\n",
      "H  172   160                      78.0850533   69.49623  11.0%  17.7    1s\r\n",
      "H  716   454                      77.6667304   70.10542  9.74%  15.4    2s\r\n",
      "  1105   736   70.20956   18   18   77.66673   70.20956  9.60%  17.2    5s\r\n",
      "* 1467   847              41      76.5990353   70.20956  8.34%  19.7    6s\r\n",
      "* 1747   819              59      76.2974105   70.20956  7.98%  19.2    6s\r\n",
      "* 2836   840              66      75.6874006   71.11621  6.04%  18.3    7s\r\n",
      "  5414  1258   74.86423   29   16   75.68740   72.09019  4.75%  17.8   10s\r\n",
      "  9568  1012 infeasible   33        75.68740   73.23359  3.24%  18.1   15s\r\n",
      "\r\n",
      "Cutting planes:\r\n",
      "  Gomory: 21\r\n",
      "  Cover: 1\r\n",
      "  Implied bound: 50\r\n",
      "  Projected implied bound: 11\r\n",
      "  MIR: 52\r\n",
      "  StrongCG: 1\r\n",
      "  Flow cover: 49\r\n",
      "  GUB cover: 3\r\n",
      "  Inf proof: 24\r\n",
      "  Zero half: 19\r\n",
      "  RLT: 144\r\n",
      "  Relax-and-lift: 78\r\n",
      "\r\n",
      "Explored 12821 nodes (225256 simplex iterations) in 16.65 seconds\r\n",
      "Thread count was 8 (of 8 available processors)\r\n",
      "\r\n",
      "Solution count 10: 75.6874 76.2974 76.599 ... 96.047\r\n",
      "\r\n",
      "Optimal solution found (tolerance 1.00e-04)\r\n",
      "Best objective 7.568740064639e+01, best bound 7.568740064639e+01, gap 0.0000%\r\n",
      "objective_value(m) = 75.68740064639158\n"
     ]
    }
   ],
   "source": [
    "using JuMP, Gurobi \n",
    "v = 1:5  # # of drones\n",
    "m = Model(Gurobi.Optimizer);\n",
    "@variable(m,x[arcs,v],Bin) #arcs covered by vehicle k\n",
    "@variable(m,u[1:n+1,v])\n",
    "# Each patient will be visited exactly once\n",
    "@constraint(m,single1[j in patients],sum(x[(i,j),k] for i in V for k in v)==1) \n",
    "@constraint(m,single2[i in patients],sum(x[(i,j),k] for j in V for k in v)==1) \n",
    "# Drone starts from depot\n",
    "@constraint(m,depot1[k in v],sum(x[(1,j),k] for j in patients)==1)\n",
    "# Drone ends at depot\n",
    "@constraint(m,depot2[k in v],sum(x[(i,1),k] for i in patients)==1)\n",
    "# Capacity constriant\n",
    "@constraint(m,capacity[k in v],sum(q[i]*x[(i,j),k] for i in patients for j in V)<=Q)\n",
    "# Balance constraint\n",
    "@constraint(m,balance[h in patients,k in v],sum(x[(i,h),k] for i in V)-sum(x[(h,j),k] for j in V)==0) \n",
    "# Subtour Elimination MTZ\n",
    "@constraint(m,subtour1[k in v], u[1,k]==1)\n",
    "@constraint(m,subtour2[k in v,i in 2:n+1], u[i,k]>=2)   \n",
    "@constraint(m,subtour3[k in v,i in 2:n+1], u[i,k]<=n)\n",
    "@constraint(m,subtour4[k in v,i in 2:n+1, j in 2:n+1], (u[i,k]-u[j,k]+1)<=(n-1)*(1-x[(i,j),k]))\n",
    "# Maximum flying distance for each drone\n",
    "@constraint(m,maxdis[k in v], sum(d[i,j]*x[(i,j),k] for i in V for j in V)<=D)                                             \n",
    "# Objective Function\n",
    "@objective(m,Min,5*sum(d[i,j]*x[(i,j),k] for i in V for j in V for k in v))                                                              \n",
    "optimize!(m)\n",
    "@show objective_value(m);"
   ]
  },
  {
   "cell_type": "code",
   "execution_count": 7,
   "metadata": {
    "slideshow": {
     "slide_type": "slide"
    }
   },
   "outputs": [
    {
     "name": "stdout",
     "output_type": "stream",
     "text": [
      "x[(1, 19),1]\n",
      "x[(10, 1),1]\n",
      "x[(13, 10),1]\n",
      "x[(19, 20),1]\n",
      "x[(20, 13),1]\n",
      "x[(1, 14),2]\n",
      "x[(4, 6),2]\n",
      "x[(5, 9),2]\n",
      "x[(6, 1),2]\n",
      "x[(8, 16),2]\n",
      "x[(9, 8),2]\n",
      "x[(14, 5),2]\n",
      "x[(16, 4),2]\n",
      "x[(1, 18),3]\n",
      "x[(2, 15),3]\n",
      "x[(3, 2),3]\n",
      "x[(7, 11),3]\n",
      "x[(11, 21),3]\n",
      "x[(15, 7),3]\n",
      "x[(18, 3),3]\n",
      "x[(21, 1),3]\n",
      "x[(1, 17),4]\n",
      "x[(17, 1),4]\n",
      "x[(1, 12),5]\n",
      "x[(12, 1),5]\n"
     ]
    }
   ],
   "source": [
    "val = value.(x)\n",
    "for k in v\n",
    "    for i in V\n",
    "        for j in V\n",
    "            if val[(i,j),k] ≈ 1\n",
    "                println(x[(i,j),k])\n",
    "            end \n",
    "        end\n",
    "    end\n",
    "end"
   ]
  },
  {
   "cell_type": "code",
   "execution_count": null,
   "metadata": {},
   "outputs": [],
   "source": []
  }
 ],
 "metadata": {
  "celltoolbar": "幻灯片",
  "kernelspec": {
   "display_name": "Julia 1.3.1",
   "language": "julia",
   "name": "julia-1.3"
  },
  "language_info": {
   "file_extension": ".jl",
   "mimetype": "application/julia",
   "name": "julia",
   "version": "1.3.1"
  }
 },
 "nbformat": 4,
 "nbformat_minor": 2
}
