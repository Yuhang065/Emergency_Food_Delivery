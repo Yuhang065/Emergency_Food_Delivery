{
 "cells": [
  {
   "cell_type": "code",
   "execution_count": 1,
   "metadata": {
    "slideshow": {
     "slide_type": "slide"
    }
   },
   "outputs": [],
   "source": [
    "using CSV\n",
    "using Distances\n",
    "using Random"
   ]
  },
  {
   "cell_type": "code",
   "execution_count": 2,
   "metadata": {
    "slideshow": {
     "slide_type": "fragment"
    }
   },
   "outputs": [
    {
     "data": {
      "text/plain": [
       "21-element Array{Int64,1}:\n",
       " 14\n",
       " 14\n",
       " 15\n",
       " 13\n",
       " 13\n",
       " 14\n",
       " 14\n",
       " 15\n",
       " 14\n",
       " 15\n",
       " 12\n",
       " 12\n",
       " 12\n",
       " 14\n",
       " 12\n",
       " 13\n",
       " 14\n",
       " 15\n",
       " 15\n",
       " 13\n",
       " 14"
      ]
     },
     "execution_count": 2,
     "metadata": {},
     "output_type": "execute_result"
    }
   ],
   "source": [
    "Random.seed!(1)\n",
    "n = 20      # The number of patients\n",
    "c_1 = 5     # unit distance cost\n",
    "patients = [2:n+1;]\n",
    "V = [1:n+1;]  # 1 denotes depot.    \n",
    "q = [rand(12:15,n+1);]   # Requirment of each patient\n",
    "arcs = []\n",
    "for i in V\n",
    "    for j in V \n",
    "        push!(arcs,(i,j))\n",
    "    end\n",
    "end\n",
    "Q = 100    # Capacity\n",
    "D = 10  # Max flying distance\n",
    "q"
   ]
  },
  {
   "cell_type": "code",
   "execution_count": 3,
   "metadata": {
    "slideshow": {
     "slide_type": "slide"
    }
   },
   "outputs": [
    {
     "data": {
      "text/html": [
       "<table class=\"data-frame\"><thead><tr><th></th><th>OID</th><th>CID</th><th>POINT_X</th><th>POINT_Y</th><th>Column5</th><th>Column6</th><th>Column7</th><th>Column8</th><th>Column9</th><th>Column10</th></tr><tr><th></th><th>Int64</th><th>Int64</th><th>Float64</th><th>Float64</th><th>Missing</th><th>Missing</th><th>Missing</th><th>Missing</th><th>Missing</th><th>Missing</th></tr></thead><tbody><p>21 rows × 16,384 columns (omitted printing of 16374 columns)</p><tr><th>1</th><td>0</td><td>0</td><td>-76.5831</td><td>39.3669</td><td>missing</td><td>missing</td><td>missing</td><td>missing</td><td>missing</td><td>missing</td></tr><tr><th>2</th><td>1</td><td>1</td><td>-76.5872</td><td>39.3697</td><td>missing</td><td>missing</td><td>missing</td><td>missing</td><td>missing</td><td>missing</td></tr><tr><th>3</th><td>2</td><td>2</td><td>-76.5965</td><td>39.3464</td><td>missing</td><td>missing</td><td>missing</td><td>missing</td><td>missing</td><td>missing</td></tr><tr><th>4</th><td>3</td><td>3</td><td>-76.5986</td><td>39.3515</td><td>missing</td><td>missing</td><td>missing</td><td>missing</td><td>missing</td><td>missing</td></tr><tr><th>5</th><td>4</td><td>4</td><td>-76.5945</td><td>39.3565</td><td>missing</td><td>missing</td><td>missing</td><td>missing</td><td>missing</td><td>missing</td></tr><tr><th>6</th><td>5</td><td>5</td><td>-76.5899</td><td>39.3488</td><td>missing</td><td>missing</td><td>missing</td><td>missing</td><td>missing</td><td>missing</td></tr><tr><th>7</th><td>6</td><td>6</td><td>-76.5735</td><td>39.3576</td><td>missing</td><td>missing</td><td>missing</td><td>missing</td><td>missing</td><td>missing</td></tr><tr><th>8</th><td>7</td><td>7</td><td>-76.595</td><td>39.3667</td><td>missing</td><td>missing</td><td>missing</td><td>missing</td><td>missing</td><td>missing</td></tr><tr><th>9</th><td>8</td><td>8</td><td>-76.579</td><td>39.3662</td><td>missing</td><td>missing</td><td>missing</td><td>missing</td><td>missing</td><td>missing</td></tr><tr><th>10</th><td>9</td><td>9</td><td>-76.5836</td><td>39.3639</td><td>missing</td><td>missing</td><td>missing</td><td>missing</td><td>missing</td><td>missing</td></tr><tr><th>11</th><td>10</td><td>10</td><td>-76.5906</td><td>39.358</td><td>missing</td><td>missing</td><td>missing</td><td>missing</td><td>missing</td><td>missing</td></tr><tr><th>12</th><td>11</td><td>11</td><td>-76.595</td><td>39.3814</td><td>missing</td><td>missing</td><td>missing</td><td>missing</td><td>missing</td><td>missing</td></tr><tr><th>13</th><td>12</td><td>12</td><td>-76.5852</td><td>39.3506</td><td>missing</td><td>missing</td><td>missing</td><td>missing</td><td>missing</td><td>missing</td></tr><tr><th>14</th><td>13</td><td>13</td><td>-76.5769</td><td>39.3716</td><td>missing</td><td>missing</td><td>missing</td><td>missing</td><td>missing</td><td>missing</td></tr><tr><th>15</th><td>14</td><td>14</td><td>-76.5922</td><td>39.348</td><td>missing</td><td>missing</td><td>missing</td><td>missing</td><td>missing</td><td>missing</td></tr><tr><th>16</th><td>15</td><td>15</td><td>-76.5805</td><td>39.3762</td><td>missing</td><td>missing</td><td>missing</td><td>missing</td><td>missing</td><td>missing</td></tr><tr><th>17</th><td>16</td><td>16</td><td>-76.593</td><td>39.3687</td><td>missing</td><td>missing</td><td>missing</td><td>missing</td><td>missing</td><td>missing</td></tr><tr><th>18</th><td>17</td><td>17</td><td>-76.5735</td><td>39.3703</td><td>missing</td><td>missing</td><td>missing</td><td>missing</td><td>missing</td><td>missing</td></tr><tr><th>19</th><td>18</td><td>18</td><td>-76.5809</td><td>39.3615</td><td>missing</td><td>missing</td><td>missing</td><td>missing</td><td>missing</td><td>missing</td></tr><tr><th>20</th><td>19</td><td>19</td><td>-76.584</td><td>39.3544</td><td>missing</td><td>missing</td><td>missing</td><td>missing</td><td>missing</td><td>missing</td></tr><tr><th>21</th><td>20</td><td>20</td><td>-76.583</td><td>39.3739</td><td>missing</td><td>missing</td><td>missing</td><td>missing</td><td>missing</td><td>missing</td></tr></tbody></table>"
      ],
      "text/latex": [
       "\\begin{tabular}{r|ccccccccccc}\n",
       "\t& OID & CID & POINT\\_X & POINT\\_Y & Column5 & Column6 & Column7 & Column8 & Column9 & Column10 & \\\\\n",
       "\t\\hline\n",
       "\t& Int64 & Int64 & Float64 & Float64 & Missing & Missing & Missing & Missing & Missing & Missing & \\\\\n",
       "\t\\hline\n",
       "\t1 & 0 & 0 & -76.5831 & 39.3669 &  &  &  &  &  &  & $\\dots$ \\\\\n",
       "\t2 & 1 & 1 & -76.5872 & 39.3697 &  &  &  &  &  &  & $\\dots$ \\\\\n",
       "\t3 & 2 & 2 & -76.5965 & 39.3464 &  &  &  &  &  &  & $\\dots$ \\\\\n",
       "\t4 & 3 & 3 & -76.5986 & 39.3515 &  &  &  &  &  &  & $\\dots$ \\\\\n",
       "\t5 & 4 & 4 & -76.5945 & 39.3565 &  &  &  &  &  &  & $\\dots$ \\\\\n",
       "\t6 & 5 & 5 & -76.5899 & 39.3488 &  &  &  &  &  &  & $\\dots$ \\\\\n",
       "\t7 & 6 & 6 & -76.5735 & 39.3576 &  &  &  &  &  &  & $\\dots$ \\\\\n",
       "\t8 & 7 & 7 & -76.595 & 39.3667 &  &  &  &  &  &  & $\\dots$ \\\\\n",
       "\t9 & 8 & 8 & -76.579 & 39.3662 &  &  &  &  &  &  & $\\dots$ \\\\\n",
       "\t10 & 9 & 9 & -76.5836 & 39.3639 &  &  &  &  &  &  & $\\dots$ \\\\\n",
       "\t11 & 10 & 10 & -76.5906 & 39.358 &  &  &  &  &  &  & $\\dots$ \\\\\n",
       "\t12 & 11 & 11 & -76.595 & 39.3814 &  &  &  &  &  &  & $\\dots$ \\\\\n",
       "\t13 & 12 & 12 & -76.5852 & 39.3506 &  &  &  &  &  &  & $\\dots$ \\\\\n",
       "\t14 & 13 & 13 & -76.5769 & 39.3716 &  &  &  &  &  &  & $\\dots$ \\\\\n",
       "\t15 & 14 & 14 & -76.5922 & 39.348 &  &  &  &  &  &  & $\\dots$ \\\\\n",
       "\t16 & 15 & 15 & -76.5805 & 39.3762 &  &  &  &  &  &  & $\\dots$ \\\\\n",
       "\t17 & 16 & 16 & -76.593 & 39.3687 &  &  &  &  &  &  & $\\dots$ \\\\\n",
       "\t18 & 17 & 17 & -76.5735 & 39.3703 &  &  &  &  &  &  & $\\dots$ \\\\\n",
       "\t19 & 18 & 18 & -76.5809 & 39.3615 &  &  &  &  &  &  & $\\dots$ \\\\\n",
       "\t20 & 19 & 19 & -76.584 & 39.3544 &  &  &  &  &  &  & $\\dots$ \\\\\n",
       "\t21 & 20 & 20 & -76.583 & 39.3739 &  &  &  &  &  &  & $\\dots$ \\\\\n",
       "\\end{tabular}\n"
      ],
      "text/plain": [
       "21×16384 DataFrames.DataFrame. Omitted printing of 16377 columns\n",
       "│ Row │ OID   │ CID   │ POINT_X  │ POINT_Y │ Column5 │ Column6 │ Column7 │\n",
       "│     │ \u001b[90mInt64\u001b[39m │ \u001b[90mInt64\u001b[39m │ \u001b[90mFloat64\u001b[39m  │ \u001b[90mFloat64\u001b[39m │ \u001b[90mMissing\u001b[39m │ \u001b[90mMissing\u001b[39m │ \u001b[90mMissing\u001b[39m │\n",
       "├─────┼───────┼───────┼──────────┼─────────┼─────────┼─────────┼─────────┤\n",
       "│ 1   │ 0     │ 0     │ -76.5831 │ 39.3669 │ \u001b[90mmissing\u001b[39m │ \u001b[90mmissing\u001b[39m │ \u001b[90mmissing\u001b[39m │\n",
       "│ 2   │ 1     │ 1     │ -76.5872 │ 39.3697 │ \u001b[90mmissing\u001b[39m │ \u001b[90mmissing\u001b[39m │ \u001b[90mmissing\u001b[39m │\n",
       "│ 3   │ 2     │ 2     │ -76.5965 │ 39.3464 │ \u001b[90mmissing\u001b[39m │ \u001b[90mmissing\u001b[39m │ \u001b[90mmissing\u001b[39m │\n",
       "│ 4   │ 3     │ 3     │ -76.5986 │ 39.3515 │ \u001b[90mmissing\u001b[39m │ \u001b[90mmissing\u001b[39m │ \u001b[90mmissing\u001b[39m │\n",
       "│ 5   │ 4     │ 4     │ -76.5945 │ 39.3565 │ \u001b[90mmissing\u001b[39m │ \u001b[90mmissing\u001b[39m │ \u001b[90mmissing\u001b[39m │\n",
       "│ 6   │ 5     │ 5     │ -76.5899 │ 39.3488 │ \u001b[90mmissing\u001b[39m │ \u001b[90mmissing\u001b[39m │ \u001b[90mmissing\u001b[39m │\n",
       "│ 7   │ 6     │ 6     │ -76.5735 │ 39.3576 │ \u001b[90mmissing\u001b[39m │ \u001b[90mmissing\u001b[39m │ \u001b[90mmissing\u001b[39m │\n",
       "│ 8   │ 7     │ 7     │ -76.595  │ 39.3667 │ \u001b[90mmissing\u001b[39m │ \u001b[90mmissing\u001b[39m │ \u001b[90mmissing\u001b[39m │\n",
       "│ 9   │ 8     │ 8     │ -76.579  │ 39.3662 │ \u001b[90mmissing\u001b[39m │ \u001b[90mmissing\u001b[39m │ \u001b[90mmissing\u001b[39m │\n",
       "│ 10  │ 9     │ 9     │ -76.5836 │ 39.3639 │ \u001b[90mmissing\u001b[39m │ \u001b[90mmissing\u001b[39m │ \u001b[90mmissing\u001b[39m │\n",
       "│ 11  │ 10    │ 10    │ -76.5906 │ 39.358  │ \u001b[90mmissing\u001b[39m │ \u001b[90mmissing\u001b[39m │ \u001b[90mmissing\u001b[39m │\n",
       "│ 12  │ 11    │ 11    │ -76.595  │ 39.3814 │ \u001b[90mmissing\u001b[39m │ \u001b[90mmissing\u001b[39m │ \u001b[90mmissing\u001b[39m │\n",
       "│ 13  │ 12    │ 12    │ -76.5852 │ 39.3506 │ \u001b[90mmissing\u001b[39m │ \u001b[90mmissing\u001b[39m │ \u001b[90mmissing\u001b[39m │\n",
       "│ 14  │ 13    │ 13    │ -76.5769 │ 39.3716 │ \u001b[90mmissing\u001b[39m │ \u001b[90mmissing\u001b[39m │ \u001b[90mmissing\u001b[39m │\n",
       "│ 15  │ 14    │ 14    │ -76.5922 │ 39.348  │ \u001b[90mmissing\u001b[39m │ \u001b[90mmissing\u001b[39m │ \u001b[90mmissing\u001b[39m │\n",
       "│ 16  │ 15    │ 15    │ -76.5805 │ 39.3762 │ \u001b[90mmissing\u001b[39m │ \u001b[90mmissing\u001b[39m │ \u001b[90mmissing\u001b[39m │\n",
       "│ 17  │ 16    │ 16    │ -76.593  │ 39.3687 │ \u001b[90mmissing\u001b[39m │ \u001b[90mmissing\u001b[39m │ \u001b[90mmissing\u001b[39m │\n",
       "│ 18  │ 17    │ 17    │ -76.5735 │ 39.3703 │ \u001b[90mmissing\u001b[39m │ \u001b[90mmissing\u001b[39m │ \u001b[90mmissing\u001b[39m │\n",
       "│ 19  │ 18    │ 18    │ -76.5809 │ 39.3615 │ \u001b[90mmissing\u001b[39m │ \u001b[90mmissing\u001b[39m │ \u001b[90mmissing\u001b[39m │\n",
       "│ 20  │ 19    │ 19    │ -76.584  │ 39.3544 │ \u001b[90mmissing\u001b[39m │ \u001b[90mmissing\u001b[39m │ \u001b[90mmissing\u001b[39m │\n",
       "│ 21  │ 20    │ 20    │ -76.583  │ 39.3739 │ \u001b[90mmissing\u001b[39m │ \u001b[90mmissing\u001b[39m │ \u001b[90mmissing\u001b[39m │"
      ]
     },
     "execution_count": 3,
     "metadata": {},
     "output_type": "execute_result"
    }
   ],
   "source": [
    "data = CSV.read(\"Patients21239_TableToExcel.csv\")"
   ]
  },
  {
   "cell_type": "code",
   "execution_count": 4,
   "metadata": {
    "slideshow": {
     "slide_type": "slide"
    }
   },
   "outputs": [
    {
     "data": {
      "text/plain": [
       "21×21 Array{Float64,2}:\n",
       " 0.0       0.473235  2.55293   2.16895   …  0.62688   1.39412   0.775418\n",
       " 0.473235  0.0       2.7143    2.25302      1.0621    1.73071   0.580527\n",
       " 2.55293   2.7143    0.0       0.588874     2.15083   1.39651   3.26439 \n",
       " 2.16895   2.25302   0.588874  0.0          1.88448   1.29525   2.82342 \n",
       " 1.51647   1.60119   1.13377   0.657355     1.29679   0.936856  2.16795 \n",
       " 2.096     2.34031   0.627563  0.800846  …  1.61317   0.803975  2.84938 \n",
       " 1.31568   1.78417   2.33752   2.25684      0.764532  0.966627  1.98035 \n",
       " 1.02297   0.750379  2.26006   1.72105      1.34235   1.66756   1.29829 \n",
       " 0.356309  0.803189  2.66309   2.3426       0.543224  1.38018   0.920459\n",
       " 0.33319   0.713831  2.23966   1.88607      0.357911  1.06276   1.10629 \n",
       " 1.18923   1.3455    1.37674   0.988424  …  0.928715  0.698526  1.88786 \n",
       " 1.91489   1.46443   3.8928    3.34159      2.52566   3.15455   1.33076 \n",
       " 1.81938   2.13342   1.08015   1.15229      1.26789   0.431559  2.59231 \n",
       " 0.741591  0.904095  3.26447   2.90558      1.16815   2.00505   0.584436\n",
       " 2.24064   2.45367   0.412243  0.668386     1.7889    1.00109   2.9803  \n",
       " 1.05914   0.92045   3.58713   3.15696   …  1.63361   2.44577   0.340107\n",
       " 0.878937  0.515313  2.4984    1.97543      1.31621   1.77646   1.03104 \n",
       " 0.911457  1.1805    3.31784   3.00829      1.17076   1.99195   0.911513\n",
       " 0.62688   1.0621    2.15083   1.88448      0.0       0.837054  1.38564 \n",
       " 1.39412   1.73071   1.39651   1.29525      0.837054  0.0       2.16892 \n",
       " 0.775418  0.580527  3.26439   2.82342   …  1.38564   2.16892   0.0     "
      ]
     },
     "execution_count": 4,
     "metadata": {},
     "output_type": "execute_result"
    }
   ],
   "source": [
    "x_loc = data[:,3];\n",
    "y_loc = data[:,4];\n",
    "d = zeros(n+1,n+1)   # Distance matrix\n",
    "for i = 1: length(V)\n",
    "    for j = 1: length(V)\n",
    "        d[i,j] = haversine((x_loc[i],y_loc[i]),(x_loc[j],y_loc[j]),6372.8) \n",
    "    end\n",
    "end\n",
    "d"
   ]
  },
  {
   "cell_type": "code",
   "execution_count": 5,
   "metadata": {
    "scrolled": true,
    "slideshow": {
     "slide_type": "slide"
    }
   },
   "outputs": [
    {
     "name": "stdout",
     "output_type": "stream",
     "text": [
      "Academic license - for non-commercial use only\r\n",
      "Academic license - for non-commercial use only\r\n",
      "Gurobi Optimizer version 9.0.1 build v9.0.1rc0 (win64)\r\n",
      "Optimize a model with 1438 rows, 1386 columns and 11166 nonzeros\r\n",
      "Model fingerprint: 0xf690f2f7\r\n",
      "Variable types: 63 continuous, 1323 integer (1323 binary)\r\n",
      "Coefficient statistics:\r\n",
      "  Matrix range     [2e-01, 2e+01]\r\n",
      "  Objective range  [1e+00, 2e+01]\r\n",
      "  Bounds range     [0e+00, 0e+00]\r\n",
      "  RHS range        [1e+00, 1e+02]\r\n",
      "Presolve removed 474 rows and 414 columns\r\n",
      "Presolve time: 0.08s\r\n",
      "Presolved: 964 rows, 972 columns, 15748 nonzeros\r\n",
      "Variable types: 51 continuous, 921 integer (921 binary)\r\n",
      "\r\n",
      "Root relaxation: objective 7.717594e+01, 151 iterations, 0.01 seconds\r\n",
      "\r\n",
      "    Nodes    |    Current Node    |     Objective Bounds      |     Work\r\n",
      " Expl Unexpl |  Obj  Depth IntInf | Incumbent    BestBd   Gap | It/Node Time\r\n",
      "\r\n",
      "     0     0   77.17594    0   22          -   77.17594      -     -    0s\r\n",
      "H    0     0                     105.0203238   77.17594  26.5%     -    0s\r\n",
      "     0     0   77.83653    0   41  105.02032   77.83653  25.9%     -    0s\r\n",
      "     0     0   78.30700    0   41  105.02032   78.30700  25.4%     -    0s\r\n",
      "     0     0   79.68816    0   39  105.02032   79.68816  24.1%     -    0s\r\n",
      "     0     0   79.99543    0   51  105.02032   79.99543  23.8%     -    0s\r\n",
      "     0     0   80.04108    0   42  105.02032   80.04108  23.8%     -    0s\r\n",
      "     0     0   80.04108    0   42  105.02032   80.04108  23.8%     -    0s\r\n",
      "H    0     0                     103.6173429   80.04108  22.8%     -    0s\r\n",
      "     0     0   80.72080    0   63  103.61734   80.72080  22.1%     -    0s\r\n",
      "H    0     0                     101.7095971   80.72080  20.6%     -    0s\r\n",
      "H    0     0                      92.1572258   80.72080  12.4%     -    0s\r\n",
      "     0     0   80.79957    0   20   92.15723   80.79957  12.3%     -    0s\r\n",
      "     0     0   81.04380    0   60   92.15723   81.04380  12.1%     -    0s\r\n",
      "     0     0   81.05480    0   50   92.15723   81.05480  12.0%     -    0s\r\n",
      "     0     0   81.06108    0   49   92.15723   81.06108  12.0%     -    0s\r\n",
      "     0     0   81.08214    0   64   92.15723   81.08214  12.0%     -    0s\r\n",
      "     0     0   81.08214    0   64   92.15723   81.08214  12.0%     -    0s\r\n",
      "     0     0   81.08214    0   64   92.15723   81.08214  12.0%     -    0s\r\n",
      "H    0     0                      90.8744452   81.08214  10.8%     -    1s\r\n",
      "     0     0   81.08214    0   64   90.87445   81.08214  10.8%     -    1s\r\n",
      "     0     0   81.08214    0   60   90.87445   81.08214  10.8%     -    1s\r\n",
      "     0     0   81.08214    0   22   90.87445   81.08214  10.8%     -    1s\r\n",
      "     0     0   81.08214    0   36   90.87445   81.08214  10.8%     -    1s\r\n",
      "     0     0   81.08214    0   35   90.87445   81.08214  10.8%     -    1s\r\n",
      "     0     0   81.08214    0   56   90.87445   81.08214  10.8%     -    1s\r\n",
      "     0     0   81.08214    0   46   90.87445   81.08214  10.8%     -    1s\r\n",
      "     0     0   81.08214    0   49   90.87445   81.08214  10.8%     -    1s\r\n",
      "     0     0   81.08214    0   59   90.87445   81.08214  10.8%     -    1s\r\n",
      "     0     0   81.08214    0   60   90.87445   81.08214  10.8%     -    1s\r\n",
      "     0     0   81.10013    0   68   90.87445   81.10013  10.8%     -    1s\r\n",
      "     0     0   81.10013    0   68   90.87445   81.10013  10.8%     -    1s\r\n",
      "     0     0   81.23160    0   97   90.87445   81.23160  10.6%     -    2s\r\n",
      "     0     0   81.23249    0   94   90.87445   81.23249  10.6%     -    2s\r\n",
      "     0     0   81.31617    0   89   90.87445   81.31617  10.5%     -    2s\r\n",
      "     0     0   81.31670    0   86   90.87445   81.31670  10.5%     -    2s\r\n",
      "     0     0   81.31695    0   87   90.87445   81.31695  10.5%     -    2s\r\n",
      "     0     0   81.31695    0   85   90.87445   81.31695  10.5%     -    2s\r\n",
      "     0     2   81.31695    0   84   90.87445   81.31695  10.5%     -    2s\r\n",
      "*  191   121              47      90.7877968   81.50921  10.2%  11.3    3s\r\n",
      "H 1151   454                      90.6219732   83.09274  8.31%  11.9    4s\r\n",
      "  1375   559   85.14376   23   17   90.62197   83.41442  7.95%  11.4    5s\r\n",
      "  2241   827   88.02591   20   16   90.62197   84.02520  7.28%  12.6   10s\r\n",
      "* 3482   782              35      90.1852457   84.25955  6.57%  13.7   11s\r\n",
      "* 3752   728              38      90.1402862   84.39044  6.38%  13.8   11s\r\n",
      "* 3875   660              39      89.8525213   84.44568  6.02%  13.9   11s\r\n",
      "* 3933   624              38      89.5001337   84.44568  5.65%  14.0   11s\r\n",
      "* 4327   672              55      89.4044562   84.74017  5.22%  14.2   12s\r\n",
      "* 4655   680              22      89.0419504   84.86733  4.69%  14.2   12s\r\n",
      "* 5664   450              27      87.4706210   85.52764  2.22%  14.5   13s\r\n",
      "* 5665   415              26      87.2881363   85.52764  2.02%  14.5   13s\r\n",
      "\r\n",
      "Cutting planes:\r\n",
      "  Gomory: 6\r\n",
      "  Cover: 7\r\n",
      "  Implied bound: 4\r\n",
      "  Projected implied bound: 2\r\n",
      "  MIR: 22\r\n",
      "  StrongCG: 2\r\n",
      "  Flow cover: 22\r\n",
      "  GUB cover: 1\r\n",
      "  Inf proof: 1\r\n",
      "  Zero half: 32\r\n",
      "  RLT: 78\r\n",
      "\r\n",
      "Explored 6408 nodes (91893 simplex iterations) in 13.33 seconds\r\n",
      "Thread count was 8 (of 8 available processors)\r\n",
      "\r\n",
      "Solution count 10: 87.2881 87.4706 89.042 ... 90.7878\r\n",
      "\r\n",
      "Optimal solution found (tolerance 1.00e-04)\r\n",
      "Best objective 8.728813627224e+01, best bound 8.728813627224e+01, gap 0.0000%\r\n",
      "objective_value(m) = 87.28813627224172\n"
     ]
    }
   ],
   "source": [
    "using JuMP, Gurobi \n",
    "v = 1:3  # Number of drones\n",
    "m = Model(Gurobi.Optimizer);\n",
    "@variable(m,x[arcs,v],Bin) #arcs covered by vehicle k\n",
    "@variable(m,u[1:n+1,v])\n",
    "# Each patient will be visited exactly once\n",
    "@constraint(m,single1[j in patients],sum(x[(i,j),k] for i in V for k in v)==1) \n",
    "@constraint(m,single2[i in patients],sum(x[(i,j),k] for j in V for k in v)==1) \n",
    "# Drone starts from depot\n",
    "@constraint(m,depot1[k in v],sum(x[(1,j),k] for j in patients)==1)\n",
    "# Drone ends at depot\n",
    "@constraint(m,depot2[k in v],sum(x[(i,1),k] for i in patients)==1)\n",
    "# Capacity constriant\n",
    "@constraint(m,capacity[k in v],sum(q[i]*x[(i,j),k] for i in patients for j in V)<=Q)\n",
    "# Balance constraint\n",
    "@constraint(m,balance[h in patients,k in v],sum(x[(i,h),k] for i in V)-sum(x[(h,j),k] for j in V)==0) \n",
    "# Subtour Elimination MTZ\n",
    "@constraint(m,subtour1[k in v], u[1,k]==1)\n",
    "@constraint(m,subtour2[k in v,i in 2:n+1], u[i,k]>=2)   \n",
    "@constraint(m,subtour3[k in v,i in 2:n+1], u[i,k]<=n)\n",
    "@constraint(m,subtour4[k in v,i in 2:n+1, j in 2:n+1], (u[i,k]-u[j,k]+1)<=(n-1)*(1-x[(i,j),k]))\n",
    "# Maximum flying distance for each drone\n",
    "@constraint(m,maxdis[k in v], sum(d[i,j]*x[(i,j),k] for i in V for j in V)<=D)\n",
    "# Certain patients need foods first\n",
    "@constraint(m,x[(1,4),1]==1)\n",
    "@constraint(m,x[(1,8),2]==1)\n",
    "@constraint(m,x[(1,12),3]==1)\n",
    "# Objective Function\n",
    "@objective(m,Min,c_1 * sum(d[i,j]*x[(i,j),k] for i in V for j in V for k in v))                                                              \n",
    "optimize!(m)\n",
    "@show objective_value(m);"
   ]
  },
  {
   "cell_type": "code",
   "execution_count": 6,
   "metadata": {
    "slideshow": {
     "slide_type": "slide"
    }
   },
   "outputs": [
    {
     "name": "stdout",
     "output_type": "stream",
     "text": [
      "x[(1, 4),1]\n",
      "x[(3, 15),1]\n",
      "x[(4, 3),1]\n",
      "x[(6, 13),1]\n",
      "x[(7, 1),1]\n",
      "x[(13, 20),1]\n",
      "x[(15, 6),1]\n",
      "x[(20, 7),1]\n",
      "x[(1, 8),2]\n",
      "x[(5, 11),2]\n",
      "x[(8, 17),2]\n",
      "x[(10, 1),2]\n",
      "x[(11, 19),2]\n",
      "x[(17, 5),2]\n",
      "x[(19, 10),2]\n",
      "x[(1, 12),3]\n",
      "x[(2, 21),3]\n",
      "x[(9, 1),3]\n",
      "x[(12, 2),3]\n",
      "x[(14, 18),3]\n",
      "x[(16, 14),3]\n",
      "x[(18, 9),3]\n",
      "x[(21, 16),3]\n"
     ]
    }
   ],
   "source": [
    "val = value.(x)\n",
    "for k in v\n",
    "    for i in V\n",
    "        for j in V\n",
    "            if val[(i,j),k]==1\n",
    "                println(x[(i,j),k])\n",
    "            end \n",
    "        end\n",
    "    end\n",
    "end"
   ]
  }
 ],
 "metadata": {
  "celltoolbar": "幻灯片",
  "kernelspec": {
   "display_name": "Julia 1.3.1",
   "language": "julia",
   "name": "julia-1.3"
  },
  "language_info": {
   "file_extension": ".jl",
   "mimetype": "application/julia",
   "name": "julia",
   "version": "1.3.1"
  }
 },
 "nbformat": 4,
 "nbformat_minor": 2
}
