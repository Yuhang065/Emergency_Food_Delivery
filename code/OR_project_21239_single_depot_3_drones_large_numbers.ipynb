{
 "cells": [
  {
   "cell_type": "code",
   "execution_count": 1,
   "metadata": {
    "slideshow": {
     "slide_type": "slide"
    }
   },
   "outputs": [],
   "source": [
    "using CSV\n",
    "using Distances\n",
    "using Random"
   ]
  },
  {
   "cell_type": "code",
   "execution_count": 2,
   "metadata": {
    "slideshow": {
     "slide_type": "fragment"
    }
   },
   "outputs": [
    {
     "data": {
      "text/plain": [
       "101-element Array{Int64,1}:\n",
       " 14\n",
       " 14\n",
       " 15\n",
       " 13\n",
       " 13\n",
       " 14\n",
       " 14\n",
       " 15\n",
       " 14\n",
       " 15\n",
       " 12\n",
       " 12\n",
       " 12\n",
       "  ⋮\n",
       " 15\n",
       " 13\n",
       " 12\n",
       " 14\n",
       " 14\n",
       " 12\n",
       " 14\n",
       " 12\n",
       " 12\n",
       " 14\n",
       " 13\n",
       " 12"
      ]
     },
     "execution_count": 2,
     "metadata": {},
     "output_type": "execute_result"
    }
   ],
   "source": [
    "Random.seed!(1)\n",
    "n = 100      # The number of patients\n",
    "c_2 = 5     # unit distance cost\n",
    "patients = [2:n+1;]\n",
    "V = [1:n+1;]  # 1 denotes depot.    \n",
    "q = [rand(12:15,n+1);]   # Requirment of each patient\n",
    "arcs = []\n",
    "for i in V\n",
    "    for j in V \n",
    "        push!(arcs,(i,j))\n",
    "    end\n",
    "end\n",
    "Q = 100    # Capacity\n",
    "D = 10  # Max flying distance\n",
    "q"
   ]
  },
  {
   "cell_type": "code",
   "execution_count": 3,
   "metadata": {
    "slideshow": {
     "slide_type": "slide"
    }
   },
   "outputs": [
    {
     "data": {
      "text/html": [
       "<table class=\"data-frame\"><thead><tr><th></th><th>OID</th><th>CID</th><th>POINT_X</th><th>POINT_Y</th></tr><tr><th></th><th>Int64</th><th>Int64</th><th>Float64</th><th>Float64</th></tr></thead><tbody><p>101 rows × 4 columns</p><tr><th>1</th><td>0</td><td>1</td><td>-76.5831</td><td>39.3669</td></tr><tr><th>2</th><td>1</td><td>1</td><td>-76.5937</td><td>39.3583</td></tr><tr><th>3</th><td>2</td><td>1</td><td>-76.5833</td><td>39.3641</td></tr><tr><th>4</th><td>3</td><td>1</td><td>-76.5897</td><td>39.3493</td></tr><tr><th>5</th><td>4</td><td>1</td><td>-76.5819</td><td>39.374</td></tr><tr><th>6</th><td>5</td><td>1</td><td>-76.5941</td><td>39.3812</td></tr><tr><th>7</th><td>6</td><td>1</td><td>-76.5799</td><td>39.3808</td></tr><tr><th>8</th><td>7</td><td>1</td><td>-76.5853</td><td>39.3614</td></tr><tr><th>9</th><td>8</td><td>1</td><td>-76.5741</td><td>39.3649</td></tr><tr><th>10</th><td>9</td><td>1</td><td>-76.576</td><td>39.3574</td></tr><tr><th>11</th><td>10</td><td>1</td><td>-76.5804</td><td>39.3785</td></tr><tr><th>12</th><td>11</td><td>1</td><td>-76.5754</td><td>39.3659</td></tr><tr><th>13</th><td>12</td><td>1</td><td>-76.592</td><td>39.3676</td></tr><tr><th>14</th><td>13</td><td>1</td><td>-76.5816</td><td>39.3695</td></tr><tr><th>15</th><td>14</td><td>1</td><td>-76.5808</td><td>39.3735</td></tr><tr><th>16</th><td>15</td><td>1</td><td>-76.5861</td><td>39.3609</td></tr><tr><th>17</th><td>16</td><td>1</td><td>-76.5831</td><td>39.3634</td></tr><tr><th>18</th><td>17</td><td>1</td><td>-76.5924</td><td>39.3476</td></tr><tr><th>19</th><td>18</td><td>1</td><td>-76.5888</td><td>39.3799</td></tr><tr><th>20</th><td>19</td><td>1</td><td>-76.5866</td><td>39.3757</td></tr><tr><th>21</th><td>20</td><td>1</td><td>-76.5906</td><td>39.351</td></tr><tr><th>22</th><td>21</td><td>1</td><td>-76.5935</td><td>39.3665</td></tr><tr><th>23</th><td>22</td><td>1</td><td>-76.5903</td><td>39.3675</td></tr><tr><th>24</th><td>23</td><td>1</td><td>-76.5976</td><td>39.3464</td></tr><tr><th>25</th><td>24</td><td>1</td><td>-76.5878</td><td>39.3476</td></tr><tr><th>26</th><td>25</td><td>1</td><td>-76.5907</td><td>39.3758</td></tr><tr><th>27</th><td>26</td><td>1</td><td>-76.596</td><td>39.3673</td></tr><tr><th>28</th><td>27</td><td>1</td><td>-76.581</td><td>39.3672</td></tr><tr><th>29</th><td>28</td><td>1</td><td>-76.5824</td><td>39.3799</td></tr><tr><th>30</th><td>29</td><td>1</td><td>-76.5873</td><td>39.3679</td></tr><tr><th>&vellip;</th><td>&vellip;</td><td>&vellip;</td><td>&vellip;</td><td>&vellip;</td></tr></tbody></table>"
      ],
      "text/latex": [
       "\\begin{tabular}{r|cccc}\n",
       "\t& OID & CID & POINT\\_X & POINT\\_Y\\\\\n",
       "\t\\hline\n",
       "\t& Int64 & Int64 & Float64 & Float64\\\\\n",
       "\t\\hline\n",
       "\t1 & 0 & 1 & -76.5831 & 39.3669 \\\\\n",
       "\t2 & 1 & 1 & -76.5937 & 39.3583 \\\\\n",
       "\t3 & 2 & 1 & -76.5833 & 39.3641 \\\\\n",
       "\t4 & 3 & 1 & -76.5897 & 39.3493 \\\\\n",
       "\t5 & 4 & 1 & -76.5819 & 39.374 \\\\\n",
       "\t6 & 5 & 1 & -76.5941 & 39.3812 \\\\\n",
       "\t7 & 6 & 1 & -76.5799 & 39.3808 \\\\\n",
       "\t8 & 7 & 1 & -76.5853 & 39.3614 \\\\\n",
       "\t9 & 8 & 1 & -76.5741 & 39.3649 \\\\\n",
       "\t10 & 9 & 1 & -76.576 & 39.3574 \\\\\n",
       "\t11 & 10 & 1 & -76.5804 & 39.3785 \\\\\n",
       "\t12 & 11 & 1 & -76.5754 & 39.3659 \\\\\n",
       "\t13 & 12 & 1 & -76.592 & 39.3676 \\\\\n",
       "\t14 & 13 & 1 & -76.5816 & 39.3695 \\\\\n",
       "\t15 & 14 & 1 & -76.5808 & 39.3735 \\\\\n",
       "\t16 & 15 & 1 & -76.5861 & 39.3609 \\\\\n",
       "\t17 & 16 & 1 & -76.5831 & 39.3634 \\\\\n",
       "\t18 & 17 & 1 & -76.5924 & 39.3476 \\\\\n",
       "\t19 & 18 & 1 & -76.5888 & 39.3799 \\\\\n",
       "\t20 & 19 & 1 & -76.5866 & 39.3757 \\\\\n",
       "\t21 & 20 & 1 & -76.5906 & 39.351 \\\\\n",
       "\t22 & 21 & 1 & -76.5935 & 39.3665 \\\\\n",
       "\t23 & 22 & 1 & -76.5903 & 39.3675 \\\\\n",
       "\t24 & 23 & 1 & -76.5976 & 39.3464 \\\\\n",
       "\t25 & 24 & 1 & -76.5878 & 39.3476 \\\\\n",
       "\t26 & 25 & 1 & -76.5907 & 39.3758 \\\\\n",
       "\t27 & 26 & 1 & -76.596 & 39.3673 \\\\\n",
       "\t28 & 27 & 1 & -76.581 & 39.3672 \\\\\n",
       "\t29 & 28 & 1 & -76.5824 & 39.3799 \\\\\n",
       "\t30 & 29 & 1 & -76.5873 & 39.3679 \\\\\n",
       "\t$\\dots$ & $\\dots$ & $\\dots$ & $\\dots$ & $\\dots$ \\\\\n",
       "\\end{tabular}\n"
      ],
      "text/plain": [
       "101×4 DataFrames.DataFrame\n",
       "│ Row │ OID   │ CID   │ POINT_X  │ POINT_Y │\n",
       "│     │ \u001b[90mInt64\u001b[39m │ \u001b[90mInt64\u001b[39m │ \u001b[90mFloat64\u001b[39m  │ \u001b[90mFloat64\u001b[39m │\n",
       "├─────┼───────┼───────┼──────────┼─────────┤\n",
       "│ 1   │ 0     │ 1     │ -76.5831 │ 39.3669 │\n",
       "│ 2   │ 1     │ 1     │ -76.5937 │ 39.3583 │\n",
       "│ 3   │ 2     │ 1     │ -76.5833 │ 39.3641 │\n",
       "│ 4   │ 3     │ 1     │ -76.5897 │ 39.3493 │\n",
       "│ 5   │ 4     │ 1     │ -76.5819 │ 39.374  │\n",
       "│ 6   │ 5     │ 1     │ -76.5941 │ 39.3812 │\n",
       "│ 7   │ 6     │ 1     │ -76.5799 │ 39.3808 │\n",
       "│ 8   │ 7     │ 1     │ -76.5853 │ 39.3614 │\n",
       "│ 9   │ 8     │ 1     │ -76.5741 │ 39.3649 │\n",
       "│ 10  │ 9     │ 1     │ -76.576  │ 39.3574 │\n",
       "⋮\n",
       "│ 91  │ 90    │ 1     │ -76.5864 │ 39.3399 │\n",
       "│ 92  │ 91    │ 1     │ -76.59   │ 39.3524 │\n",
       "│ 93  │ 92    │ 1     │ -76.5904 │ 39.3735 │\n",
       "│ 94  │ 93    │ 1     │ -76.5932 │ 39.3754 │\n",
       "│ 95  │ 94    │ 1     │ -76.5873 │ 39.3696 │\n",
       "│ 96  │ 95    │ 1     │ -76.5861 │ 39.3642 │\n",
       "│ 97  │ 96    │ 1     │ -76.5765 │ 39.363  │\n",
       "│ 98  │ 97    │ 1     │ -76.5949 │ 39.3475 │\n",
       "│ 99  │ 98    │ 1     │ -76.5822 │ 39.3568 │\n",
       "│ 100 │ 99    │ 1     │ -76.5939 │ 39.3665 │\n",
       "│ 101 │ 100   │ 1     │ -76.5927 │ 39.3697 │"
      ]
     },
     "execution_count": 3,
     "metadata": {},
     "output_type": "execute_result"
    }
   ],
   "source": [
    "data = CSV.read(\"larger_numbers_patients_21239_TableToExcel.csv\")"
   ]
  },
  {
   "cell_type": "code",
   "execution_count": 4,
   "metadata": {
    "slideshow": {
     "slide_type": "slide"
    }
   },
   "outputs": [
    {
     "data": {
      "text/plain": [
       "101×101 Array{Float64,2}:\n",
       " 0.0       1.32421   0.312517  2.042     …  1.12805   0.929697  0.881999\n",
       " 1.32421   0.0       1.1054    1.0594       1.0015    0.917244  1.27315 \n",
       " 0.312517  1.1054    0.0       1.73906      0.818631  0.95109   1.02077 \n",
       " 2.042     1.0594    1.73906   0.0          1.05465   1.95252   2.28653 \n",
       " 0.797621  2.02274   1.10954   2.83267      1.917     1.32445   1.0432  \n",
       " 1.8542    2.54846   2.12022   3.57108   …  2.90346   1.63122   1.2846  \n",
       " 1.5665    2.76665   1.87724   3.60296      2.6762    1.98543   1.64637 \n",
       " 0.642309  0.801809  0.347572  1.39983      0.575894  0.934604  1.12231 \n",
       " 0.798762  1.83626   0.790075  2.19523      1.14058   1.70594   1.67937 \n",
       " 1.22463   1.52913   0.977858  1.48596      0.542155  1.84747   1.98712 \n",
       " 1.30496   2.51691   1.61565   3.3423    …  2.41555   1.75938   1.43346 \n",
       " 0.669373  1.78738   0.70627   2.22147      1.17172   1.59039   1.5442  \n",
       " 0.773525  1.04127   0.845725  2.04333      1.46574   0.195509  0.245011\n",
       " ⋮                                       ⋱                      ⋮       \n",
       " 0.672001  1.56719   0.569372  1.92721      0.87429   1.51643   1.54123 \n",
       " 3.01533   2.14079   2.70306   1.08223   …  1.90948   3.03196   3.35907 \n",
       " 1.71598   0.724306  1.42044   0.352367     0.825886  1.60288   1.9345  \n",
       " 0.971421  1.7199    1.21675   2.69952      1.99274   0.834223  0.4684  \n",
       " 1.28061   1.89852   1.51472   2.91571      2.27068   0.982653  0.62957 \n",
       " 0.47681   1.37491   0.708419  2.27318      1.49572   0.658447  0.457388\n",
       " 0.399181  0.925458  0.247353  1.68935   …  0.892649  0.713044  0.829507\n",
       " 0.712739  1.57184   0.596329  1.90587      0.851575  1.54604   1.57826 \n",
       " 2.38742   1.20873   2.10069   0.483804     1.50028   2.12357   2.48185 \n",
       " 1.12805   1.0015    0.818631  1.05465      0.0       1.47672   1.69517 \n",
       " 0.929697  0.917244  0.95109   1.95252      1.47672   0.0       0.367854\n",
       " 0.881999  1.27315   1.02077   2.28653   …  1.69517   0.367854  0.0     "
      ]
     },
     "execution_count": 4,
     "metadata": {},
     "output_type": "execute_result"
    }
   ],
   "source": [
    "x_loc = data[:,3];\n",
    "y_loc = data[:,4];\n",
    "d = zeros(n+1,n+1)   # Distance matrix\n",
    "for i = 1: length(V)\n",
    "    for j = 1: length(V)\n",
    "        d[i,j] = haversine((x_loc[i],y_loc[i]),(x_loc[j],y_loc[j]),6372.8) \n",
    "    end\n",
    "end\n",
    "d"
   ]
  },
  {
   "cell_type": "code",
   "execution_count": null,
   "metadata": {
    "slideshow": {
     "slide_type": "slide"
    }
   },
   "outputs": [],
   "source": [
    "using JuMP, Gurobi \n",
    "v = 1:15  # # of drones\n",
    "m = Model(Gurobi.Optimizer);\n",
    "@variable(m,x[arcs,v],Bin) #arcs covered by vehicle k\n",
    "@variable(m,u[1:n+1,v])\n",
    "# Each patient will be visited exactly once\n",
    "@constraint(m,single1[j in patients],sum(x[(i,j),k] for i in V for k in v)==1) \n",
    "@constraint(m,single2[i in patients],sum(x[(i,j),k] for j in V for k in v)==1) \n",
    "# Drone starts from depot\n",
    "@constraint(m,depot1[k in v],sum(x[(1,j),k] for j in patients)==1)\n",
    "# Drone ends at depot\n",
    "@constraint(m,depot2[k in v],sum(x[(i,1),k] for i in patients)==1)\n",
    "# Capacity constriant\n",
    "@constraint(m,capacity[k in v],sum(q[i]*x[(i,j),k] for i in patients for j in V)<=Q)\n",
    "# Balance constraint\n",
    "@constraint(m,balance[h in patients,k in v],sum(x[(i,h),k] for i in V)-sum(x[(h,j),k] for j in V)==0) \n",
    "# Subtour Elimination MTZ\n",
    "@constraint(m,subtour1[k in v], u[1,k]==1)\n",
    "@constraint(m,subtour2[k in v,i in 2:n+1], u[i,k]>=2)   \n",
    "@constraint(m,subtour3[k in v,i in 2:n+1], u[i,k]<=n)\n",
    "@constraint(m,subtour4[k in v,i in 2:n+1, j in 2:n+1], (u[i,k]-u[j,k]+1)<=(n-1)*(1-x[(i,j),k]))\n",
    "# Maximum flying distance for each drone\n",
    "@constraint(m,maxdis[k in v], sum(d[i,j]*x[(i,j),k] for i in V for j in V)<=D)                                             \n",
    "# Objective Function\n",
    "@objective(m,Min,5*sum(d[i,j]*x[(i,j),k] for i in V for j in V for k in v))                                                              \n",
    "optimize!(m)\n",
    "@show objective_value(m);"
   ]
  },
  {
   "cell_type": "code",
   "execution_count": null,
   "metadata": {
    "slideshow": {
     "slide_type": "slide"
    }
   },
   "outputs": [],
   "source": [
    "val = value.(x)\n",
    "for k in v\n",
    "    for i in V\n",
    "        for j in V\n",
    "            if val[(i,j),k]==1\n",
    "                println(x[(i,j),k])\n",
    "            end \n",
    "        end\n",
    "    end\n",
    "end"
   ]
  },
  {
   "cell_type": "code",
   "execution_count": null,
   "metadata": {},
   "outputs": [],
   "source": []
  }
 ],
 "metadata": {
  "celltoolbar": "幻灯片",
  "kernelspec": {
   "display_name": "Julia 1.3.1",
   "language": "julia",
   "name": "julia-1.3"
  },
  "language_info": {
   "file_extension": ".jl",
   "mimetype": "application/julia",
   "name": "julia",
   "version": "1.3.1"
  }
 },
 "nbformat": 4,
 "nbformat_minor": 2
}
