{
 "cells": [
  {
   "cell_type": "code",
   "execution_count": 1,
   "metadata": {
    "slideshow": {
     "slide_type": "slide"
    }
   },
   "outputs": [],
   "source": [
    "using CSV\n",
    "using Distances\n",
    "using Random"
   ]
  },
  {
   "cell_type": "code",
   "execution_count": 2,
   "metadata": {
    "slideshow": {
     "slide_type": "slide"
    }
   },
   "outputs": [
    {
     "data": {
      "text/plain": [
       "21-element Array{Int64,1}:\n",
       " 14\n",
       " 14\n",
       " 15\n",
       " 13\n",
       " 13\n",
       " 14\n",
       " 14\n",
       " 15\n",
       " 14\n",
       " 15\n",
       " 12\n",
       " 12\n",
       " 12\n",
       " 14\n",
       " 12\n",
       " 13\n",
       " 14\n",
       " 15\n",
       " 15\n",
       " 13\n",
       " 14"
      ]
     },
     "execution_count": 2,
     "metadata": {},
     "output_type": "execute_result"
    }
   ],
   "source": [
    "Random.seed!(1)\n",
    "n = 20      # The number of patients\n",
    "c_2 = 5     # unit distance cost\n",
    "patients = [2:n+1;]\n",
    "V = [1:n+1;]  # 1 denotes depot.    \n",
    "q = [rand(12:15,n+1);]   # Requirment of each patient\n",
    "arcs = []\n",
    "for i in V\n",
    "    for j in V \n",
    "        push!(arcs,(i,j))\n",
    "    end\n",
    "end\n",
    "Q = 100    # Capacity\n",
    "D = 10  # Max flying distance\n",
    "q"
   ]
  },
  {
   "cell_type": "code",
   "execution_count": 3,
   "metadata": {
    "slideshow": {
     "slide_type": "slide"
    }
   },
   "outputs": [
    {
     "data": {
      "text/html": [
       "<table class=\"data-frame\"><thead><tr><th></th><th>OID</th><th>CID</th><th>POINT_X</th><th>POINT_Y</th><th>Column5</th><th>Column6</th><th>Column7</th><th>Column8</th><th>Column9</th><th>Column10</th></tr><tr><th></th><th>Int64</th><th>Int64</th><th>Float64</th><th>Float64</th><th>Missing</th><th>Missing</th><th>Missing</th><th>Missing</th><th>Missing</th><th>Missing</th></tr></thead><tbody><p>21 rows × 16,384 columns (omitted printing of 16374 columns)</p><tr><th>1</th><td>0</td><td>0</td><td>-76.5831</td><td>39.3669</td><td>missing</td><td>missing</td><td>missing</td><td>missing</td><td>missing</td><td>missing</td></tr><tr><th>2</th><td>1</td><td>1</td><td>-76.5872</td><td>39.3697</td><td>missing</td><td>missing</td><td>missing</td><td>missing</td><td>missing</td><td>missing</td></tr><tr><th>3</th><td>2</td><td>2</td><td>-76.5965</td><td>39.3464</td><td>missing</td><td>missing</td><td>missing</td><td>missing</td><td>missing</td><td>missing</td></tr><tr><th>4</th><td>3</td><td>3</td><td>-76.5986</td><td>39.3515</td><td>missing</td><td>missing</td><td>missing</td><td>missing</td><td>missing</td><td>missing</td></tr><tr><th>5</th><td>4</td><td>4</td><td>-76.5945</td><td>39.3565</td><td>missing</td><td>missing</td><td>missing</td><td>missing</td><td>missing</td><td>missing</td></tr><tr><th>6</th><td>5</td><td>5</td><td>-76.5899</td><td>39.3488</td><td>missing</td><td>missing</td><td>missing</td><td>missing</td><td>missing</td><td>missing</td></tr><tr><th>7</th><td>6</td><td>6</td><td>-76.5735</td><td>39.3576</td><td>missing</td><td>missing</td><td>missing</td><td>missing</td><td>missing</td><td>missing</td></tr><tr><th>8</th><td>7</td><td>7</td><td>-76.595</td><td>39.3667</td><td>missing</td><td>missing</td><td>missing</td><td>missing</td><td>missing</td><td>missing</td></tr><tr><th>9</th><td>8</td><td>8</td><td>-76.579</td><td>39.3662</td><td>missing</td><td>missing</td><td>missing</td><td>missing</td><td>missing</td><td>missing</td></tr><tr><th>10</th><td>9</td><td>9</td><td>-76.5836</td><td>39.3639</td><td>missing</td><td>missing</td><td>missing</td><td>missing</td><td>missing</td><td>missing</td></tr><tr><th>11</th><td>10</td><td>10</td><td>-76.5906</td><td>39.358</td><td>missing</td><td>missing</td><td>missing</td><td>missing</td><td>missing</td><td>missing</td></tr><tr><th>12</th><td>11</td><td>11</td><td>-76.595</td><td>39.3814</td><td>missing</td><td>missing</td><td>missing</td><td>missing</td><td>missing</td><td>missing</td></tr><tr><th>13</th><td>12</td><td>12</td><td>-76.5852</td><td>39.3506</td><td>missing</td><td>missing</td><td>missing</td><td>missing</td><td>missing</td><td>missing</td></tr><tr><th>14</th><td>13</td><td>13</td><td>-76.5769</td><td>39.3716</td><td>missing</td><td>missing</td><td>missing</td><td>missing</td><td>missing</td><td>missing</td></tr><tr><th>15</th><td>14</td><td>14</td><td>-76.5922</td><td>39.348</td><td>missing</td><td>missing</td><td>missing</td><td>missing</td><td>missing</td><td>missing</td></tr><tr><th>16</th><td>15</td><td>15</td><td>-76.5805</td><td>39.3762</td><td>missing</td><td>missing</td><td>missing</td><td>missing</td><td>missing</td><td>missing</td></tr><tr><th>17</th><td>16</td><td>16</td><td>-76.593</td><td>39.3687</td><td>missing</td><td>missing</td><td>missing</td><td>missing</td><td>missing</td><td>missing</td></tr><tr><th>18</th><td>17</td><td>17</td><td>-76.5735</td><td>39.3703</td><td>missing</td><td>missing</td><td>missing</td><td>missing</td><td>missing</td><td>missing</td></tr><tr><th>19</th><td>18</td><td>18</td><td>-76.5809</td><td>39.3615</td><td>missing</td><td>missing</td><td>missing</td><td>missing</td><td>missing</td><td>missing</td></tr><tr><th>20</th><td>19</td><td>19</td><td>-76.584</td><td>39.3544</td><td>missing</td><td>missing</td><td>missing</td><td>missing</td><td>missing</td><td>missing</td></tr><tr><th>21</th><td>20</td><td>20</td><td>-76.583</td><td>39.3739</td><td>missing</td><td>missing</td><td>missing</td><td>missing</td><td>missing</td><td>missing</td></tr></tbody></table>"
      ],
      "text/latex": [
       "\\begin{tabular}{r|ccccccccccc}\n",
       "\t& OID & CID & POINT\\_X & POINT\\_Y & Column5 & Column6 & Column7 & Column8 & Column9 & Column10 & \\\\\n",
       "\t\\hline\n",
       "\t& Int64 & Int64 & Float64 & Float64 & Missing & Missing & Missing & Missing & Missing & Missing & \\\\\n",
       "\t\\hline\n",
       "\t1 & 0 & 0 & -76.5831 & 39.3669 &  &  &  &  &  &  & $\\dots$ \\\\\n",
       "\t2 & 1 & 1 & -76.5872 & 39.3697 &  &  &  &  &  &  & $\\dots$ \\\\\n",
       "\t3 & 2 & 2 & -76.5965 & 39.3464 &  &  &  &  &  &  & $\\dots$ \\\\\n",
       "\t4 & 3 & 3 & -76.5986 & 39.3515 &  &  &  &  &  &  & $\\dots$ \\\\\n",
       "\t5 & 4 & 4 & -76.5945 & 39.3565 &  &  &  &  &  &  & $\\dots$ \\\\\n",
       "\t6 & 5 & 5 & -76.5899 & 39.3488 &  &  &  &  &  &  & $\\dots$ \\\\\n",
       "\t7 & 6 & 6 & -76.5735 & 39.3576 &  &  &  &  &  &  & $\\dots$ \\\\\n",
       "\t8 & 7 & 7 & -76.595 & 39.3667 &  &  &  &  &  &  & $\\dots$ \\\\\n",
       "\t9 & 8 & 8 & -76.579 & 39.3662 &  &  &  &  &  &  & $\\dots$ \\\\\n",
       "\t10 & 9 & 9 & -76.5836 & 39.3639 &  &  &  &  &  &  & $\\dots$ \\\\\n",
       "\t11 & 10 & 10 & -76.5906 & 39.358 &  &  &  &  &  &  & $\\dots$ \\\\\n",
       "\t12 & 11 & 11 & -76.595 & 39.3814 &  &  &  &  &  &  & $\\dots$ \\\\\n",
       "\t13 & 12 & 12 & -76.5852 & 39.3506 &  &  &  &  &  &  & $\\dots$ \\\\\n",
       "\t14 & 13 & 13 & -76.5769 & 39.3716 &  &  &  &  &  &  & $\\dots$ \\\\\n",
       "\t15 & 14 & 14 & -76.5922 & 39.348 &  &  &  &  &  &  & $\\dots$ \\\\\n",
       "\t16 & 15 & 15 & -76.5805 & 39.3762 &  &  &  &  &  &  & $\\dots$ \\\\\n",
       "\t17 & 16 & 16 & -76.593 & 39.3687 &  &  &  &  &  &  & $\\dots$ \\\\\n",
       "\t18 & 17 & 17 & -76.5735 & 39.3703 &  &  &  &  &  &  & $\\dots$ \\\\\n",
       "\t19 & 18 & 18 & -76.5809 & 39.3615 &  &  &  &  &  &  & $\\dots$ \\\\\n",
       "\t20 & 19 & 19 & -76.584 & 39.3544 &  &  &  &  &  &  & $\\dots$ \\\\\n",
       "\t21 & 20 & 20 & -76.583 & 39.3739 &  &  &  &  &  &  & $\\dots$ \\\\\n",
       "\\end{tabular}\n"
      ],
      "text/plain": [
       "21×16384 DataFrames.DataFrame. Omitted printing of 16377 columns\n",
       "│ Row │ OID   │ CID   │ POINT_X  │ POINT_Y │ Column5 │ Column6 │ Column7 │\n",
       "│     │ \u001b[90mInt64\u001b[39m │ \u001b[90mInt64\u001b[39m │ \u001b[90mFloat64\u001b[39m  │ \u001b[90mFloat64\u001b[39m │ \u001b[90mMissing\u001b[39m │ \u001b[90mMissing\u001b[39m │ \u001b[90mMissing\u001b[39m │\n",
       "├─────┼───────┼───────┼──────────┼─────────┼─────────┼─────────┼─────────┤\n",
       "│ 1   │ 0     │ 0     │ -76.5831 │ 39.3669 │ \u001b[90mmissing\u001b[39m │ \u001b[90mmissing\u001b[39m │ \u001b[90mmissing\u001b[39m │\n",
       "│ 2   │ 1     │ 1     │ -76.5872 │ 39.3697 │ \u001b[90mmissing\u001b[39m │ \u001b[90mmissing\u001b[39m │ \u001b[90mmissing\u001b[39m │\n",
       "│ 3   │ 2     │ 2     │ -76.5965 │ 39.3464 │ \u001b[90mmissing\u001b[39m │ \u001b[90mmissing\u001b[39m │ \u001b[90mmissing\u001b[39m │\n",
       "│ 4   │ 3     │ 3     │ -76.5986 │ 39.3515 │ \u001b[90mmissing\u001b[39m │ \u001b[90mmissing\u001b[39m │ \u001b[90mmissing\u001b[39m │\n",
       "│ 5   │ 4     │ 4     │ -76.5945 │ 39.3565 │ \u001b[90mmissing\u001b[39m │ \u001b[90mmissing\u001b[39m │ \u001b[90mmissing\u001b[39m │\n",
       "│ 6   │ 5     │ 5     │ -76.5899 │ 39.3488 │ \u001b[90mmissing\u001b[39m │ \u001b[90mmissing\u001b[39m │ \u001b[90mmissing\u001b[39m │\n",
       "│ 7   │ 6     │ 6     │ -76.5735 │ 39.3576 │ \u001b[90mmissing\u001b[39m │ \u001b[90mmissing\u001b[39m │ \u001b[90mmissing\u001b[39m │\n",
       "│ 8   │ 7     │ 7     │ -76.595  │ 39.3667 │ \u001b[90mmissing\u001b[39m │ \u001b[90mmissing\u001b[39m │ \u001b[90mmissing\u001b[39m │\n",
       "│ 9   │ 8     │ 8     │ -76.579  │ 39.3662 │ \u001b[90mmissing\u001b[39m │ \u001b[90mmissing\u001b[39m │ \u001b[90mmissing\u001b[39m │\n",
       "│ 10  │ 9     │ 9     │ -76.5836 │ 39.3639 │ \u001b[90mmissing\u001b[39m │ \u001b[90mmissing\u001b[39m │ \u001b[90mmissing\u001b[39m │\n",
       "│ 11  │ 10    │ 10    │ -76.5906 │ 39.358  │ \u001b[90mmissing\u001b[39m │ \u001b[90mmissing\u001b[39m │ \u001b[90mmissing\u001b[39m │\n",
       "│ 12  │ 11    │ 11    │ -76.595  │ 39.3814 │ \u001b[90mmissing\u001b[39m │ \u001b[90mmissing\u001b[39m │ \u001b[90mmissing\u001b[39m │\n",
       "│ 13  │ 12    │ 12    │ -76.5852 │ 39.3506 │ \u001b[90mmissing\u001b[39m │ \u001b[90mmissing\u001b[39m │ \u001b[90mmissing\u001b[39m │\n",
       "│ 14  │ 13    │ 13    │ -76.5769 │ 39.3716 │ \u001b[90mmissing\u001b[39m │ \u001b[90mmissing\u001b[39m │ \u001b[90mmissing\u001b[39m │\n",
       "│ 15  │ 14    │ 14    │ -76.5922 │ 39.348  │ \u001b[90mmissing\u001b[39m │ \u001b[90mmissing\u001b[39m │ \u001b[90mmissing\u001b[39m │\n",
       "│ 16  │ 15    │ 15    │ -76.5805 │ 39.3762 │ \u001b[90mmissing\u001b[39m │ \u001b[90mmissing\u001b[39m │ \u001b[90mmissing\u001b[39m │\n",
       "│ 17  │ 16    │ 16    │ -76.593  │ 39.3687 │ \u001b[90mmissing\u001b[39m │ \u001b[90mmissing\u001b[39m │ \u001b[90mmissing\u001b[39m │\n",
       "│ 18  │ 17    │ 17    │ -76.5735 │ 39.3703 │ \u001b[90mmissing\u001b[39m │ \u001b[90mmissing\u001b[39m │ \u001b[90mmissing\u001b[39m │\n",
       "│ 19  │ 18    │ 18    │ -76.5809 │ 39.3615 │ \u001b[90mmissing\u001b[39m │ \u001b[90mmissing\u001b[39m │ \u001b[90mmissing\u001b[39m │\n",
       "│ 20  │ 19    │ 19    │ -76.584  │ 39.3544 │ \u001b[90mmissing\u001b[39m │ \u001b[90mmissing\u001b[39m │ \u001b[90mmissing\u001b[39m │\n",
       "│ 21  │ 20    │ 20    │ -76.583  │ 39.3739 │ \u001b[90mmissing\u001b[39m │ \u001b[90mmissing\u001b[39m │ \u001b[90mmissing\u001b[39m │"
      ]
     },
     "execution_count": 3,
     "metadata": {},
     "output_type": "execute_result"
    }
   ],
   "source": [
    "data = CSV.read(\"Patients21239_TableToExcel.csv\")"
   ]
  },
  {
   "cell_type": "code",
   "execution_count": 4,
   "metadata": {
    "slideshow": {
     "slide_type": "slide"
    }
   },
   "outputs": [
    {
     "data": {
      "text/plain": [
       "21×21 Array{Float64,2}:\n",
       " 0.0       0.473235  2.55293   2.16895   …  0.62688   1.39412   0.775418\n",
       " 0.473235  0.0       2.7143    2.25302      1.0621    1.73071   0.580527\n",
       " 2.55293   2.7143    0.0       0.588874     2.15083   1.39651   3.26439 \n",
       " 2.16895   2.25302   0.588874  0.0          1.88448   1.29525   2.82342 \n",
       " 1.51647   1.60119   1.13377   0.657355     1.29679   0.936856  2.16795 \n",
       " 2.096     2.34031   0.627563  0.800846  …  1.61317   0.803975  2.84938 \n",
       " 1.31568   1.78417   2.33752   2.25684      0.764532  0.966627  1.98035 \n",
       " 1.02297   0.750379  2.26006   1.72105      1.34235   1.66756   1.29829 \n",
       " 0.356309  0.803189  2.66309   2.3426       0.543224  1.38018   0.920459\n",
       " 0.33319   0.713831  2.23966   1.88607      0.357911  1.06276   1.10629 \n",
       " 1.18923   1.3455    1.37674   0.988424  …  0.928715  0.698526  1.88786 \n",
       " 1.91489   1.46443   3.8928    3.34159      2.52566   3.15455   1.33076 \n",
       " 1.81938   2.13342   1.08015   1.15229      1.26789   0.431559  2.59231 \n",
       " 0.741591  0.904095  3.26447   2.90558      1.16815   2.00505   0.584436\n",
       " 2.24064   2.45367   0.412243  0.668386     1.7889    1.00109   2.9803  \n",
       " 1.05914   0.92045   3.58713   3.15696   …  1.63361   2.44577   0.340107\n",
       " 0.878937  0.515313  2.4984    1.97543      1.31621   1.77646   1.03104 \n",
       " 0.911457  1.1805    3.31784   3.00829      1.17076   1.99195   0.911513\n",
       " 0.62688   1.0621    2.15083   1.88448      0.0       0.837054  1.38564 \n",
       " 1.39412   1.73071   1.39651   1.29525      0.837054  0.0       2.16892 \n",
       " 0.775418  0.580527  3.26439   2.82342   …  1.38564   2.16892   0.0     "
      ]
     },
     "execution_count": 4,
     "metadata": {},
     "output_type": "execute_result"
    }
   ],
   "source": [
    "x_loc = data[:,3];\n",
    "y_loc = data[:,4];\n",
    "d = zeros(n+1,n+1)   # Distance matrix\n",
    "for i = 1: length(V)\n",
    "    for j = 1: length(V)\n",
    "        d[i,j] = haversine((x_loc[i],y_loc[i]),(x_loc[j],y_loc[j]),6372.8) \n",
    "    end\n",
    "end\n",
    "d"
   ]
  },
  {
   "cell_type": "code",
   "execution_count": 5,
   "metadata": {
    "slideshow": {
     "slide_type": "slide"
    }
   },
   "outputs": [
    {
     "name": "stdout",
     "output_type": "stream",
     "text": [
      "Academic license - for non-commercial use only\r\n",
      "Academic license - for non-commercial use only\r\n",
      "Gurobi Optimizer version 9.0.1 build v9.0.1rc0 (win64)\r\n",
      "Optimize a model with 2365 rows, 2310 columns and 18605 nonzeros\r\n",
      "Model fingerprint: 0x9d572e9a\r\n",
      "Variable types: 105 continuous, 2205 integer (2205 binary)\r\n",
      "Coefficient statistics:\r\n",
      "  Matrix range     [2e-01, 2e+01]\r\n",
      "  Objective range  [1e+00, 2e+01]\r\n",
      "  Bounds range     [0e+00, 0e+00]\r\n",
      "  RHS range        [1e+00, 1e+02]\r\n",
      "Presolve removed 305 rows and 110 columns\r\n",
      "Presolve time: 0.03s\r\n",
      "Presolved: 2060 rows, 2200 columns, 17900 nonzeros\r\n",
      "Variable types: 100 continuous, 2100 integer (2100 binary)\r\n",
      "\r\n",
      "Root relaxation: objective 6.841413e+01, 112 iterations, 0.00 seconds\r\n",
      "\r\n",
      "    Nodes    |    Current Node    |     Objective Bounds      |     Work\r\n",
      " Expl Unexpl |  Obj  Depth IntInf | Incumbent    BestBd   Gap | It/Node Time\r\n",
      "\r\n",
      "     0     0   68.41413    0   30          -   68.41413      -     -    0s\r\n",
      "H    0     0                     170.9205050   68.41413  60.0%     -    0s\r\n",
      "H    0     0                     155.9876653   68.41413  56.1%     -    0s\r\n",
      "H    0     0                     143.7587238   68.41413  52.4%     -    0s\r\n",
      "     0     0   68.41413    0   30  143.75872   68.41413  52.4%     -    0s\r\n",
      "     0     0   68.41413    0   30  143.75872   68.41413  52.4%     -    0s\r\n",
      "     0     0   68.71810    0   45  143.75872   68.71810  52.2%     -    0s\r\n",
      "H    0     0                     140.1395309   68.71810  51.0%     -    0s\r\n",
      "     0     0   73.27500    0   63  140.13953   73.27500  47.7%     -    0s\r\n",
      "     0     0   73.27500    0   63  140.13953   73.27500  47.7%     -    0s\r\n",
      "     0     0   74.18963    0   37  140.13953   74.18963  47.1%     -    0s\r\n",
      "     0     0   74.18963    0   32  140.13953   74.18963  47.1%     -    0s\r\n",
      "H    0     0                     138.1348317   74.18963  46.3%     -    0s\r\n",
      "     0     0   74.39290    0   20  138.13483   74.39290  46.1%     -    0s\r\n",
      "     0     0   74.39290    0   20  138.13483   74.39290  46.1%     -    0s\r\n",
      "     0     0   74.39290    0   20  138.13483   74.39290  46.1%     -    0s\r\n",
      "     0     0   74.39290    0   20  138.13483   74.39290  46.1%     -    0s\r\n",
      "     0     2   74.39290    0   20  138.13483   74.39290  46.1%     -    0s\r\n",
      "H    8    12                     121.1940932   75.15229  38.0%  86.9    0s\r\n",
      "H   29    33                     119.4457890   75.45437  36.8%  54.7    0s\r\n",
      "H   32    37                     102.1743228   75.45437  26.2%  50.3    0s\r\n",
      "H  219   219                      94.5348870   75.45437  20.2%  23.9    1s\r\n",
      "H  252   238                      94.5100786   75.45437  20.2%  22.5    1s\r\n",
      "H  286   258                      92.7906371   75.45437  18.7%  22.0    1s\r\n",
      "H  785   556                      90.4210451   75.70533  16.3%  17.8    2s\r\n",
      "H  856   559                      88.6727408   76.18316  14.1%  18.0    3s\r\n",
      "  1076   708   86.18270   56   58   88.67274   76.79907  13.4%  17.7    5s\r\n",
      "  3518  1565   87.20966   34   21   88.67274   78.29684  11.7%  20.9   10s\r\n",
      "* 6045  2614              58      88.3301828   78.99243  10.6%  20.6   12s\r\n",
      "* 6046  2614              58      88.2880766   78.99243  10.5%  20.6   12s\r\n",
      "* 6251  2694              64      87.9805941   79.03239  10.2%  20.8   12s\r\n",
      "H 8801  3687                      86.9898204   79.30416  8.84%  20.3   14s\r\n",
      "* 9393  3808              51      86.7495243   79.39615  8.48%  20.2   14s\r\n",
      "  9544  3989   82.06298   44   59   86.74952   79.44065  8.43%  20.2   15s\r\n",
      " 14495  5050   84.34353   53   49   86.74952   80.17376  7.58%  20.0   20s\r\n",
      " 16699  5494   83.77765   34   14   86.74952   80.45877  7.25%  19.9   26s\r\n",
      " 21470  5919     cutoff   55        86.74952   81.02999  6.59%  19.8   30s\r\n",
      " 25580  6222   81.63251   44   49   86.74952   81.38915  6.18%  19.6   35s\r\n",
      " 29072  6411   84.49819   35    8   86.74952   81.70399  5.82%  19.6   46s\r\n",
      " 33741  6137   82.62177   40   30   86.74952   82.17167  5.28%  19.7   50s\r\n",
      " 39828  5325   85.18933   29   32   86.74952   82.83288  4.51%  19.7   55s\r\n",
      " 46844  3341   86.74227   36   10   86.74952   83.72892  3.48%  19.9   60s\r\n",
      " 53002    10   85.93171   65   10   86.74952   85.30193  1.67%  19.7   65s\r\n",
      "\r\n",
      "Cutting planes:\r\n",
      "  Gomory: 21\r\n",
      "  Cover: 1\r\n",
      "  Implied bound: 97\r\n",
      "  Projected implied bound: 3\r\n",
      "  MIR: 27\r\n",
      "  Flow cover: 57\r\n",
      "  GUB cover: 8\r\n",
      "  Inf proof: 84\r\n",
      "  Zero half: 8\r\n",
      "  Mod-K: 5\r\n",
      "  RLT: 161\r\n",
      "  Relax-and-lift: 10\r\n",
      "\r\n",
      "Explored 53868 nodes (1055350 simplex iterations) in 65.21 seconds\r\n",
      "Thread count was 8 (of 8 available processors)\r\n",
      "\r\n",
      "Solution count 10: 86.7495 86.9898 87.9806 ... 94.5349\r\n",
      "\r\n",
      "Optimal solution found (tolerance 1.00e-04)\r\n",
      "Best objective 8.674952434708e+01, best bound 8.674952434708e+01, gap 0.0000%\r\n",
      "objective_value(m) = 86.74952434708007\n"
     ]
    }
   ],
   "source": [
    "using JuMP, Gurobi \n",
    "v = 1:5  # # of drones\n",
    "m = Model(Gurobi.Optimizer);\n",
    "@variable(m,x[arcs,v],Bin) #arcs covered by vehicle k\n",
    "@variable(m,u[1:n+1,v])\n",
    "# Each patient will be visited exactly once\n",
    "@constraint(m,single1[j in patients],sum(x[(i,j),k] for i in V for k in v)==1) \n",
    "@constraint(m,single2[i in patients],sum(x[(i,j),k] for j in V for k in v)==1) \n",
    "# Drone starts from depot\n",
    "@constraint(m,depot1[k in v],sum(x[(1,j),k] for j in patients)==1)\n",
    "# Drone ends at depot\n",
    "@constraint(m,depot2[k in v],sum(x[(i,1),k] for i in patients)==1)\n",
    "# Capacity constriant\n",
    "@constraint(m,capacity[k in v],sum(q[i]*x[(i,j),k] for i in patients for j in V)<=Q)\n",
    "# Balance constraint\n",
    "@constraint(m,balance[h in patients,k in v],sum(x[(i,h),k] for i in V)-sum(x[(h,j),k] for j in V)==0) \n",
    "# Subtour Elimination MTZ\n",
    "@constraint(m,subtour1[k in v], u[1,k]==1)\n",
    "@constraint(m,subtour2[k in v,i in 2:n+1], u[i,k]>=2)   \n",
    "@constraint(m,subtour3[k in v,i in 2:n+1], uwwwwi,k]<=n)\n",
    "@constraint(m,subtour4[k in v,i in 2:n+1, j in 2:n+1], (u[i,k]-u[j,k]+1)<=(n-1)*(1-x[(i,j),k]))\n",
    "# Maximum flying distance for each drone\n",
    "@constraint(m,maxdis[k in v], sum(d[i,j]*x[(i,j),k] for i in V for j in V)<=D)                                             \n",
    "# Objective Function\n",
    "@objective(m,Min,5*sum(d[i,j]*x[(i,j),k] for i in V for j in V for k in v))                                                              \n",
    "optimize!(m)\n",
    "@show objective_value(m);"
   ]
  },
  {
   "cell_type": "code",
   "execution_count": 6,
   "metadata": {
    "slideshow": {
     "slide_type": "slide"
    }
   },
   "outputs": [
    {
     "name": "stdout",
     "output_type": "stream",
     "text": [
      "x[(1, 13),1]\n",
      "x[(3, 4),1]\n",
      "x[(4, 5),1]\n",
      "x[(5, 11),1]\n",
      "x[(6, 15),1]\n",
      "x[(11, 1),1]\n",
      "x[(13, 6),1]\n",
      "x[(15, 3),1]\n",
      "x[(1, 8),2]\n",
      "x[(8, 17),2]\n",
      "x[(12, 21),2]\n",
      "x[(14, 18),2]\n",
      "x[(16, 14),2]\n",
      "x[(17, 12),2]\n",
      "x[(18, 1),2]\n",
      "x[(21, 16),2]\n",
      "x[(1, 9),3]\n",
      "x[(9, 1),3]\n",
      "x[(1, 2),4]\n",
      "x[(2, 1),4]\n",
      "x[(1, 19),5]\n",
      "x[(7, 20),5]\n",
      "x[(10, 1),5]\n",
      "x[(19, 7),5]\n",
      "x[(20, 10),5]\n"
     ]
    }
   ],
   "source": [
    "val = value.(x)\n",
    "for k in v\n",
    "    for i in V\n",
    "        for j in V\n",
    "            if val[(i,j),k]==1\n",
    "                println(x[(i,j),k])\n",
    "            end \n",
    "        end\n",
    "    end\n",
    "end"
   ]
  }
 ],
 "metadata": {
  "celltoolbar": "幻灯片",
  "kernelspec": {
   "display_name": "Julia 1.3.1",
   "language": "julia",
   "name": "julia-1.3"
  },
  "language_info": {
   "file_extension": ".jl",
   "mimetype": "application/julia",
   "name": "julia",
   "version": "1.3.1"
  }
 },
 "nbformat": 4,
 "nbformat_minor": 2
}
